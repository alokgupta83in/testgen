{
 "cells": [
  {
   "cell_type": "code",
   "execution_count": 1,
   "metadata": {
    "collapsed": true,
    "jupyter": {
     "outputs_hidden": true
    },
    "tags": []
   },
   "outputs": [
    {
     "name": "stdout",
     "output_type": "stream",
     "text": [
      "Requirement already satisfied: langchain-community in /Users/agupt38/anaconda3/envs/env_v2_3_11/lib/python3.10/site-packages (0.0.36)\n",
      "Requirement already satisfied: langchain-core in /Users/agupt38/anaconda3/envs/env_v2_3_11/lib/python3.10/site-packages (0.1.48)\n",
      "Requirement already satisfied: aiohttp<4.0.0,>=3.8.3 in /Users/agupt38/anaconda3/envs/env_v2_3_11/lib/python3.10/site-packages (from langchain-community) (3.8.4)\n",
      "Requirement already satisfied: dataclasses-json<0.7,>=0.5.7 in /Users/agupt38/anaconda3/envs/env_v2_3_11/lib/python3.10/site-packages (from langchain-community) (0.5.7)\n",
      "Requirement already satisfied: tenacity<9.0.0,>=8.1.0 in /Users/agupt38/anaconda3/envs/env_v2_3_11/lib/python3.10/site-packages (from langchain-community) (8.2.2)\n",
      "Requirement already satisfied: requests<3,>=2 in /Users/agupt38/anaconda3/envs/env_v2_3_11/lib/python3.10/site-packages (from langchain-community) (2.29.0)\n",
      "Requirement already satisfied: langsmith<0.2.0,>=0.1.0 in /Users/agupt38/anaconda3/envs/env_v2_3_11/lib/python3.10/site-packages (from langchain-community) (0.1.53)\n",
      "Requirement already satisfied: numpy<2,>=1 in /Users/agupt38/anaconda3/envs/env_v2_3_11/lib/python3.10/site-packages (from langchain-community) (1.24.3)\n",
      "Requirement already satisfied: PyYAML>=5.3 in /Users/agupt38/anaconda3/envs/env_v2_3_11/lib/python3.10/site-packages (from langchain-community) (6.0)\n",
      "Requirement already satisfied: SQLAlchemy<3,>=1.4 in /Users/agupt38/anaconda3/envs/env_v2_3_11/lib/python3.10/site-packages (from langchain-community) (2.0.15)\n",
      "Requirement already satisfied: jsonpatch<2.0,>=1.33 in /Users/agupt38/anaconda3/envs/env_v2_3_11/lib/python3.10/site-packages (from langchain-core) (1.33)\n",
      "Requirement already satisfied: pydantic<3,>=1 in /Users/agupt38/anaconda3/envs/env_v2_3_11/lib/python3.10/site-packages (from langchain-core) (1.10.8)\n",
      "Requirement already satisfied: packaging<24.0,>=23.2 in /Users/agupt38/anaconda3/envs/env_v2_3_11/lib/python3.10/site-packages (from langchain-core) (23.2)\n",
      "Requirement already satisfied: charset-normalizer<4.0,>=2.0 in /Users/agupt38/anaconda3/envs/env_v2_3_11/lib/python3.10/site-packages (from aiohttp<4.0.0,>=3.8.3->langchain-community) (2.0.4)\n",
      "Requirement already satisfied: attrs>=17.3.0 in /Users/agupt38/anaconda3/envs/env_v2_3_11/lib/python3.10/site-packages (from aiohttp<4.0.0,>=3.8.3->langchain-community) (22.1.0)\n",
      "Requirement already satisfied: aiosignal>=1.1.2 in /Users/agupt38/anaconda3/envs/env_v2_3_11/lib/python3.10/site-packages (from aiohttp<4.0.0,>=3.8.3->langchain-community) (1.3.1)\n",
      "Requirement already satisfied: multidict<7.0,>=4.5 in /Users/agupt38/anaconda3/envs/env_v2_3_11/lib/python3.10/site-packages (from aiohttp<4.0.0,>=3.8.3->langchain-community) (6.0.4)\n",
      "Requirement already satisfied: yarl<2.0,>=1.0 in /Users/agupt38/anaconda3/envs/env_v2_3_11/lib/python3.10/site-packages (from aiohttp<4.0.0,>=3.8.3->langchain-community) (1.9.2)\n",
      "Requirement already satisfied: async-timeout<5.0,>=4.0.0a3 in /Users/agupt38/anaconda3/envs/env_v2_3_11/lib/python3.10/site-packages (from aiohttp<4.0.0,>=3.8.3->langchain-community) (4.0.2)\n",
      "Requirement already satisfied: frozenlist>=1.1.1 in /Users/agupt38/anaconda3/envs/env_v2_3_11/lib/python3.10/site-packages (from aiohttp<4.0.0,>=3.8.3->langchain-community) (1.3.3)\n",
      "Requirement already satisfied: marshmallow-enum<2.0.0,>=1.5.1 in /Users/agupt38/anaconda3/envs/env_v2_3_11/lib/python3.10/site-packages (from dataclasses-json<0.7,>=0.5.7->langchain-community) (1.5.1)\n",
      "Requirement already satisfied: typing-inspect>=0.4.0 in /Users/agupt38/anaconda3/envs/env_v2_3_11/lib/python3.10/site-packages (from dataclasses-json<0.7,>=0.5.7->langchain-community) (0.9.0)\n",
      "Requirement already satisfied: marshmallow<4.0.0,>=3.3.0 in /Users/agupt38/anaconda3/envs/env_v2_3_11/lib/python3.10/site-packages (from dataclasses-json<0.7,>=0.5.7->langchain-community) (3.19.0)\n",
      "Requirement already satisfied: jsonpointer>=1.9 in /Users/agupt38/anaconda3/envs/env_v2_3_11/lib/python3.10/site-packages (from jsonpatch<2.0,>=1.33->langchain-core) (2.4)\n",
      "Requirement already satisfied: orjson<4.0.0,>=3.9.14 in /Users/agupt38/anaconda3/envs/env_v2_3_11/lib/python3.10/site-packages (from langsmith<0.2.0,>=0.1.0->langchain-community) (3.10.2)\n",
      "Requirement already satisfied: typing-extensions>=4.2.0 in /Users/agupt38/anaconda3/envs/env_v2_3_11/lib/python3.10/site-packages (from pydantic<3,>=1->langchain-core) (4.9.0)\n",
      "Requirement already satisfied: idna<4,>=2.5 in /Users/agupt38/anaconda3/envs/env_v2_3_11/lib/python3.10/site-packages (from requests<3,>=2->langchain-community) (3.4)\n",
      "Requirement already satisfied: urllib3<1.27,>=1.21.1 in /Users/agupt38/anaconda3/envs/env_v2_3_11/lib/python3.10/site-packages (from requests<3,>=2->langchain-community) (1.26.15)\n",
      "Requirement already satisfied: certifi>=2017.4.17 in /Users/agupt38/anaconda3/envs/env_v2_3_11/lib/python3.10/site-packages (from requests<3,>=2->langchain-community) (2023.5.7)\n",
      "Requirement already satisfied: mypy-extensions>=0.3.0 in /Users/agupt38/anaconda3/envs/env_v2_3_11/lib/python3.10/site-packages (from typing-inspect>=0.4.0->dataclasses-json<0.7,>=0.5.7->langchain-community) (1.0.0)\n",
      "Requirement already satisfied: langchain_openai===0.1.5 in /Users/agupt38/anaconda3/envs/env_v2_3_11/lib/python3.10/site-packages (0.1.5)\n",
      "Requirement already satisfied: tiktoken<1,>=0.5.2 in /Users/agupt38/anaconda3/envs/env_v2_3_11/lib/python3.10/site-packages (from langchain_openai===0.1.5) (0.6.0)\n",
      "Collecting openai<2.0.0,>=1.10.0\n",
      "  Downloading openai-1.30.4-py3-none-any.whl (320 kB)\n",
      "\u001b[2K     \u001b[90m━━━━━━━━━━━━━━━━━━━━━━━━━━━━━━━━━━━━━━━\u001b[0m \u001b[32m320.6/320.6 kB\u001b[0m \u001b[31m1.4 MB/s\u001b[0m eta \u001b[36m0:00:00\u001b[0m00:01\u001b[0m00:01\u001b[0m\n",
      "\u001b[?25hRequirement already satisfied: langchain-core<0.2.0,>=0.1.46 in /Users/agupt38/anaconda3/envs/env_v2_3_11/lib/python3.10/site-packages (from langchain_openai===0.1.5) (0.1.48)\n",
      "Requirement already satisfied: PyYAML>=5.3 in /Users/agupt38/anaconda3/envs/env_v2_3_11/lib/python3.10/site-packages (from langchain-core<0.2.0,>=0.1.46->langchain_openai===0.1.5) (6.0)\n",
      "Requirement already satisfied: langsmith<0.2.0,>=0.1.0 in /Users/agupt38/anaconda3/envs/env_v2_3_11/lib/python3.10/site-packages (from langchain-core<0.2.0,>=0.1.46->langchain_openai===0.1.5) (0.1.53)\n",
      "Requirement already satisfied: packaging<24.0,>=23.2 in /Users/agupt38/anaconda3/envs/env_v2_3_11/lib/python3.10/site-packages (from langchain-core<0.2.0,>=0.1.46->langchain_openai===0.1.5) (23.2)\n",
      "Requirement already satisfied: pydantic<3,>=1 in /Users/agupt38/anaconda3/envs/env_v2_3_11/lib/python3.10/site-packages (from langchain-core<0.2.0,>=0.1.46->langchain_openai===0.1.5) (1.10.8)\n",
      "Requirement already satisfied: jsonpatch<2.0,>=1.33 in /Users/agupt38/anaconda3/envs/env_v2_3_11/lib/python3.10/site-packages (from langchain-core<0.2.0,>=0.1.46->langchain_openai===0.1.5) (1.33)\n",
      "Requirement already satisfied: tenacity<9.0.0,>=8.1.0 in /Users/agupt38/anaconda3/envs/env_v2_3_11/lib/python3.10/site-packages (from langchain-core<0.2.0,>=0.1.46->langchain_openai===0.1.5) (8.2.2)\n",
      "Requirement already satisfied: typing-extensions<5,>=4.7 in /Users/agupt38/anaconda3/envs/env_v2_3_11/lib/python3.10/site-packages (from openai<2.0.0,>=1.10.0->langchain_openai===0.1.5) (4.9.0)\n",
      "Requirement already satisfied: tqdm>4 in /Users/agupt38/anaconda3/envs/env_v2_3_11/lib/python3.10/site-packages (from openai<2.0.0,>=1.10.0->langchain_openai===0.1.5) (4.65.0)\n",
      "Requirement already satisfied: distro<2,>=1.7.0 in /Users/agupt38/anaconda3/envs/env_v2_3_11/lib/python3.10/site-packages (from openai<2.0.0,>=1.10.0->langchain_openai===0.1.5) (1.9.0)\n",
      "Requirement already satisfied: sniffio in /Users/agupt38/anaconda3/envs/env_v2_3_11/lib/python3.10/site-packages (from openai<2.0.0,>=1.10.0->langchain_openai===0.1.5) (1.2.0)\n",
      "Requirement already satisfied: anyio<5,>=3.5.0 in /Users/agupt38/anaconda3/envs/env_v2_3_11/lib/python3.10/site-packages (from openai<2.0.0,>=1.10.0->langchain_openai===0.1.5) (3.5.0)\n",
      "Requirement already satisfied: httpx<1,>=0.23.0 in /Users/agupt38/anaconda3/envs/env_v2_3_11/lib/python3.10/site-packages (from openai<2.0.0,>=1.10.0->langchain_openai===0.1.5) (0.26.0)\n",
      "Requirement already satisfied: regex>=2022.1.18 in /Users/agupt38/anaconda3/envs/env_v2_3_11/lib/python3.10/site-packages (from tiktoken<1,>=0.5.2->langchain_openai===0.1.5) (2023.6.3)\n",
      "Requirement already satisfied: requests>=2.26.0 in /Users/agupt38/anaconda3/envs/env_v2_3_11/lib/python3.10/site-packages (from tiktoken<1,>=0.5.2->langchain_openai===0.1.5) (2.29.0)\n",
      "Requirement already satisfied: idna>=2.8 in /Users/agupt38/anaconda3/envs/env_v2_3_11/lib/python3.10/site-packages (from anyio<5,>=3.5.0->openai<2.0.0,>=1.10.0->langchain_openai===0.1.5) (3.4)\n",
      "Requirement already satisfied: certifi in /Users/agupt38/anaconda3/envs/env_v2_3_11/lib/python3.10/site-packages (from httpx<1,>=0.23.0->openai<2.0.0,>=1.10.0->langchain_openai===0.1.5) (2023.5.7)\n",
      "Requirement already satisfied: httpcore==1.* in /Users/agupt38/anaconda3/envs/env_v2_3_11/lib/python3.10/site-packages (from httpx<1,>=0.23.0->openai<2.0.0,>=1.10.0->langchain_openai===0.1.5) (1.0.2)\n",
      "Requirement already satisfied: h11<0.15,>=0.13 in /Users/agupt38/anaconda3/envs/env_v2_3_11/lib/python3.10/site-packages (from httpcore==1.*->httpx<1,>=0.23.0->openai<2.0.0,>=1.10.0->langchain_openai===0.1.5) (0.14.0)\n",
      "Requirement already satisfied: jsonpointer>=1.9 in /Users/agupt38/anaconda3/envs/env_v2_3_11/lib/python3.10/site-packages (from jsonpatch<2.0,>=1.33->langchain-core<0.2.0,>=0.1.46->langchain_openai===0.1.5) (2.4)\n",
      "Requirement already satisfied: orjson<4.0.0,>=3.9.14 in /Users/agupt38/anaconda3/envs/env_v2_3_11/lib/python3.10/site-packages (from langsmith<0.2.0,>=0.1.0->langchain-core<0.2.0,>=0.1.46->langchain_openai===0.1.5) (3.10.2)\n",
      "Requirement already satisfied: urllib3<1.27,>=1.21.1 in /Users/agupt38/anaconda3/envs/env_v2_3_11/lib/python3.10/site-packages (from requests>=2.26.0->tiktoken<1,>=0.5.2->langchain_openai===0.1.5) (1.26.15)\n",
      "Requirement already satisfied: charset-normalizer<4,>=2 in /Users/agupt38/anaconda3/envs/env_v2_3_11/lib/python3.10/site-packages (from requests>=2.26.0->tiktoken<1,>=0.5.2->langchain_openai===0.1.5) (2.0.4)\n",
      "Installing collected packages: openai\n",
      "  Attempting uninstall: openai\n",
      "    Found existing installation: openai 1.3.3\n",
      "    Uninstalling openai-1.3.3:\n",
      "      Successfully uninstalled openai-1.3.3\n",
      "Successfully installed openai-1.30.4\n",
      "Requirement already satisfied: langsmith==0.1.53 in /Users/agupt38/anaconda3/envs/env_v2_3_11/lib/python3.10/site-packages (0.1.53)\n",
      "Requirement already satisfied: pydantic<3,>=1 in /Users/agupt38/anaconda3/envs/env_v2_3_11/lib/python3.10/site-packages (from langsmith==0.1.53) (1.10.8)\n",
      "Requirement already satisfied: orjson<4.0.0,>=3.9.14 in /Users/agupt38/anaconda3/envs/env_v2_3_11/lib/python3.10/site-packages (from langsmith==0.1.53) (3.10.2)\n",
      "Requirement already satisfied: requests<3,>=2 in /Users/agupt38/anaconda3/envs/env_v2_3_11/lib/python3.10/site-packages (from langsmith==0.1.53) (2.29.0)\n",
      "Requirement already satisfied: typing-extensions>=4.2.0 in /Users/agupt38/anaconda3/envs/env_v2_3_11/lib/python3.10/site-packages (from pydantic<3,>=1->langsmith==0.1.53) (4.9.0)\n",
      "Requirement already satisfied: idna<4,>=2.5 in /Users/agupt38/anaconda3/envs/env_v2_3_11/lib/python3.10/site-packages (from requests<3,>=2->langsmith==0.1.53) (3.4)\n",
      "Requirement already satisfied: charset-normalizer<4,>=2 in /Users/agupt38/anaconda3/envs/env_v2_3_11/lib/python3.10/site-packages (from requests<3,>=2->langsmith==0.1.53) (2.0.4)\n",
      "Requirement already satisfied: urllib3<1.27,>=1.21.1 in /Users/agupt38/anaconda3/envs/env_v2_3_11/lib/python3.10/site-packages (from requests<3,>=2->langsmith==0.1.53) (1.26.15)\n",
      "Requirement already satisfied: certifi>=2017.4.17 in /Users/agupt38/anaconda3/envs/env_v2_3_11/lib/python3.10/site-packages (from requests<3,>=2->langsmith==0.1.53) (2023.5.7)\n",
      "Note: you may need to restart the kernel to use updated packages.\n",
      "Note: you may need to restart the kernel to use updated packages.\n",
      "Requirement already satisfied: azure-search-documents in /Users/agupt38/anaconda3/envs/env_v2_3_11/lib/python3.10/site-packages (11.4.0)\n",
      "Requirement already satisfied: isodate>=0.6.0 in /Users/agupt38/anaconda3/envs/env_v2_3_11/lib/python3.10/site-packages (from azure-search-documents) (0.6.1)\n",
      "Requirement already satisfied: azure-core<2.0.0,>=1.28.0 in /Users/agupt38/anaconda3/envs/env_v2_3_11/lib/python3.10/site-packages (from azure-search-documents) (1.29.6)\n",
      "Requirement already satisfied: azure-common~=1.1 in /Users/agupt38/anaconda3/envs/env_v2_3_11/lib/python3.10/site-packages (from azure-search-documents) (1.1.28)\n",
      "Requirement already satisfied: anyio<5.0,>=3.0 in /Users/agupt38/anaconda3/envs/env_v2_3_11/lib/python3.10/site-packages (from azure-core<2.0.0,>=1.28.0->azure-search-documents) (3.5.0)\n",
      "Requirement already satisfied: six>=1.11.0 in /Users/agupt38/anaconda3/envs/env_v2_3_11/lib/python3.10/site-packages (from azure-core<2.0.0,>=1.28.0->azure-search-documents) (1.16.0)\n",
      "Requirement already satisfied: requests>=2.21.0 in /Users/agupt38/anaconda3/envs/env_v2_3_11/lib/python3.10/site-packages (from azure-core<2.0.0,>=1.28.0->azure-search-documents) (2.29.0)\n",
      "Requirement already satisfied: typing-extensions>=4.6.0 in /Users/agupt38/anaconda3/envs/env_v2_3_11/lib/python3.10/site-packages (from azure-core<2.0.0,>=1.28.0->azure-search-documents) (4.9.0)\n",
      "Requirement already satisfied: sniffio>=1.1 in /Users/agupt38/anaconda3/envs/env_v2_3_11/lib/python3.10/site-packages (from anyio<5.0,>=3.0->azure-core<2.0.0,>=1.28.0->azure-search-documents) (1.2.0)\n",
      "Requirement already satisfied: idna>=2.8 in /Users/agupt38/anaconda3/envs/env_v2_3_11/lib/python3.10/site-packages (from anyio<5.0,>=3.0->azure-core<2.0.0,>=1.28.0->azure-search-documents) (3.4)\n",
      "Requirement already satisfied: urllib3<1.27,>=1.21.1 in /Users/agupt38/anaconda3/envs/env_v2_3_11/lib/python3.10/site-packages (from requests>=2.21.0->azure-core<2.0.0,>=1.28.0->azure-search-documents) (1.26.15)\n",
      "Requirement already satisfied: certifi>=2017.4.17 in /Users/agupt38/anaconda3/envs/env_v2_3_11/lib/python3.10/site-packages (from requests>=2.21.0->azure-core<2.0.0,>=1.28.0->azure-search-documents) (2023.5.7)\n",
      "Requirement already satisfied: charset-normalizer<4,>=2 in /Users/agupt38/anaconda3/envs/env_v2_3_11/lib/python3.10/site-packages (from requests>=2.21.0->azure-core<2.0.0,>=1.28.0->azure-search-documents) (2.0.4)\n",
      "Collecting openai==1.3.3\n",
      "  Using cached openai-1.3.3-py3-none-any.whl (220 kB)\n",
      "Requirement already satisfied: httpx<1,>=0.23.0 in /Users/agupt38/anaconda3/envs/env_v2_3_11/lib/python3.10/site-packages (from openai==1.3.3) (0.26.0)\n",
      "Requirement already satisfied: tqdm>4 in /Users/agupt38/anaconda3/envs/env_v2_3_11/lib/python3.10/site-packages (from openai==1.3.3) (4.65.0)\n",
      "Requirement already satisfied: distro<2,>=1.7.0 in /Users/agupt38/anaconda3/envs/env_v2_3_11/lib/python3.10/site-packages (from openai==1.3.3) (1.9.0)\n",
      "Requirement already satisfied: pydantic<3,>=1.9.0 in /Users/agupt38/anaconda3/envs/env_v2_3_11/lib/python3.10/site-packages (from openai==1.3.3) (1.10.8)\n",
      "Requirement already satisfied: anyio<4,>=3.5.0 in /Users/agupt38/anaconda3/envs/env_v2_3_11/lib/python3.10/site-packages (from openai==1.3.3) (3.5.0)\n",
      "Requirement already satisfied: typing-extensions<5,>=4.5 in /Users/agupt38/anaconda3/envs/env_v2_3_11/lib/python3.10/site-packages (from openai==1.3.3) (4.9.0)\n",
      "Requirement already satisfied: sniffio>=1.1 in /Users/agupt38/anaconda3/envs/env_v2_3_11/lib/python3.10/site-packages (from anyio<4,>=3.5.0->openai==1.3.3) (1.2.0)\n",
      "Requirement already satisfied: idna>=2.8 in /Users/agupt38/anaconda3/envs/env_v2_3_11/lib/python3.10/site-packages (from anyio<4,>=3.5.0->openai==1.3.3) (3.4)\n",
      "Requirement already satisfied: certifi in /Users/agupt38/anaconda3/envs/env_v2_3_11/lib/python3.10/site-packages (from httpx<1,>=0.23.0->openai==1.3.3) (2023.5.7)\n",
      "Requirement already satisfied: httpcore==1.* in /Users/agupt38/anaconda3/envs/env_v2_3_11/lib/python3.10/site-packages (from httpx<1,>=0.23.0->openai==1.3.3) (1.0.2)\n",
      "Requirement already satisfied: h11<0.15,>=0.13 in /Users/agupt38/anaconda3/envs/env_v2_3_11/lib/python3.10/site-packages (from httpcore==1.*->httpx<1,>=0.23.0->openai==1.3.3) (0.14.0)\n",
      "Installing collected packages: openai\n",
      "  Attempting uninstall: openai\n",
      "    Found existing installation: openai 1.30.4\n",
      "    Uninstalling openai-1.30.4:\n",
      "      Successfully uninstalled openai-1.30.4\n",
      "\u001b[31mERROR: pip's dependency resolver does not currently take into account all the packages that are installed. This behaviour is the source of the following dependency conflicts.\n",
      "langchain-openai 0.1.5 requires openai<2.0.0,>=1.10.0, but you have openai 1.3.3 which is incompatible.\u001b[0m\u001b[31m\n",
      "\u001b[0mSuccessfully installed openai-1.3.3\n",
      "Requirement already satisfied: python-dotenv in /Users/agupt38/anaconda3/envs/env_v2_3_11/lib/python3.10/site-packages (1.0.0)\n",
      "Requirement already satisfied: langchain===0.1.17 in /Users/agupt38/anaconda3/envs/env_v2_3_11/lib/python3.10/site-packages (0.1.17)\n",
      "Requirement already satisfied: PyYAML>=5.3 in /Users/agupt38/anaconda3/envs/env_v2_3_11/lib/python3.10/site-packages (from langchain===0.1.17) (6.0)\n",
      "Requirement already satisfied: jsonpatch<2.0,>=1.33 in /Users/agupt38/anaconda3/envs/env_v2_3_11/lib/python3.10/site-packages (from langchain===0.1.17) (1.33)\n",
      "Requirement already satisfied: langchain-core<0.2.0,>=0.1.48 in /Users/agupt38/anaconda3/envs/env_v2_3_11/lib/python3.10/site-packages (from langchain===0.1.17) (0.1.48)\n",
      "Requirement already satisfied: requests<3,>=2 in /Users/agupt38/anaconda3/envs/env_v2_3_11/lib/python3.10/site-packages (from langchain===0.1.17) (2.29.0)\n",
      "Requirement already satisfied: SQLAlchemy<3,>=1.4 in /Users/agupt38/anaconda3/envs/env_v2_3_11/lib/python3.10/site-packages (from langchain===0.1.17) (2.0.15)\n",
      "Requirement already satisfied: langsmith<0.2.0,>=0.1.17 in /Users/agupt38/anaconda3/envs/env_v2_3_11/lib/python3.10/site-packages (from langchain===0.1.17) (0.1.53)\n",
      "Requirement already satisfied: dataclasses-json<0.7,>=0.5.7 in /Users/agupt38/anaconda3/envs/env_v2_3_11/lib/python3.10/site-packages (from langchain===0.1.17) (0.5.7)\n",
      "Requirement already satisfied: async-timeout<5.0.0,>=4.0.0 in /Users/agupt38/anaconda3/envs/env_v2_3_11/lib/python3.10/site-packages (from langchain===0.1.17) (4.0.2)\n",
      "Requirement already satisfied: aiohttp<4.0.0,>=3.8.3 in /Users/agupt38/anaconda3/envs/env_v2_3_11/lib/python3.10/site-packages (from langchain===0.1.17) (3.8.4)\n",
      "Requirement already satisfied: numpy<2,>=1 in /Users/agupt38/anaconda3/envs/env_v2_3_11/lib/python3.10/site-packages (from langchain===0.1.17) (1.24.3)\n",
      "Requirement already satisfied: langchain-community<0.1,>=0.0.36 in /Users/agupt38/anaconda3/envs/env_v2_3_11/lib/python3.10/site-packages (from langchain===0.1.17) (0.0.36)\n",
      "Requirement already satisfied: langchain-text-splitters<0.1,>=0.0.1 in /Users/agupt38/anaconda3/envs/env_v2_3_11/lib/python3.10/site-packages (from langchain===0.1.17) (0.0.1)\n",
      "Requirement already satisfied: pydantic<3,>=1 in /Users/agupt38/anaconda3/envs/env_v2_3_11/lib/python3.10/site-packages (from langchain===0.1.17) (1.10.8)\n",
      "Requirement already satisfied: tenacity<9.0.0,>=8.1.0 in /Users/agupt38/anaconda3/envs/env_v2_3_11/lib/python3.10/site-packages (from langchain===0.1.17) (8.2.2)\n",
      "Requirement already satisfied: frozenlist>=1.1.1 in /Users/agupt38/anaconda3/envs/env_v2_3_11/lib/python3.10/site-packages (from aiohttp<4.0.0,>=3.8.3->langchain===0.1.17) (1.3.3)\n",
      "Requirement already satisfied: attrs>=17.3.0 in /Users/agupt38/anaconda3/envs/env_v2_3_11/lib/python3.10/site-packages (from aiohttp<4.0.0,>=3.8.3->langchain===0.1.17) (22.1.0)\n",
      "Requirement already satisfied: yarl<2.0,>=1.0 in /Users/agupt38/anaconda3/envs/env_v2_3_11/lib/python3.10/site-packages (from aiohttp<4.0.0,>=3.8.3->langchain===0.1.17) (1.9.2)\n",
      "Requirement already satisfied: multidict<7.0,>=4.5 in /Users/agupt38/anaconda3/envs/env_v2_3_11/lib/python3.10/site-packages (from aiohttp<4.0.0,>=3.8.3->langchain===0.1.17) (6.0.4)\n",
      "Requirement already satisfied: charset-normalizer<4.0,>=2.0 in /Users/agupt38/anaconda3/envs/env_v2_3_11/lib/python3.10/site-packages (from aiohttp<4.0.0,>=3.8.3->langchain===0.1.17) (2.0.4)\n",
      "Requirement already satisfied: aiosignal>=1.1.2 in /Users/agupt38/anaconda3/envs/env_v2_3_11/lib/python3.10/site-packages (from aiohttp<4.0.0,>=3.8.3->langchain===0.1.17) (1.3.1)\n",
      "Requirement already satisfied: typing-inspect>=0.4.0 in /Users/agupt38/anaconda3/envs/env_v2_3_11/lib/python3.10/site-packages (from dataclasses-json<0.7,>=0.5.7->langchain===0.1.17) (0.9.0)\n",
      "Requirement already satisfied: marshmallow<4.0.0,>=3.3.0 in /Users/agupt38/anaconda3/envs/env_v2_3_11/lib/python3.10/site-packages (from dataclasses-json<0.7,>=0.5.7->langchain===0.1.17) (3.19.0)\n",
      "Requirement already satisfied: marshmallow-enum<2.0.0,>=1.5.1 in /Users/agupt38/anaconda3/envs/env_v2_3_11/lib/python3.10/site-packages (from dataclasses-json<0.7,>=0.5.7->langchain===0.1.17) (1.5.1)\n",
      "Requirement already satisfied: jsonpointer>=1.9 in /Users/agupt38/anaconda3/envs/env_v2_3_11/lib/python3.10/site-packages (from jsonpatch<2.0,>=1.33->langchain===0.1.17) (2.4)\n",
      "Requirement already satisfied: packaging<24.0,>=23.2 in /Users/agupt38/anaconda3/envs/env_v2_3_11/lib/python3.10/site-packages (from langchain-core<0.2.0,>=0.1.48->langchain===0.1.17) (23.2)\n",
      "Requirement already satisfied: orjson<4.0.0,>=3.9.14 in /Users/agupt38/anaconda3/envs/env_v2_3_11/lib/python3.10/site-packages (from langsmith<0.2.0,>=0.1.17->langchain===0.1.17) (3.10.2)\n",
      "Requirement already satisfied: typing-extensions>=4.2.0 in /Users/agupt38/anaconda3/envs/env_v2_3_11/lib/python3.10/site-packages (from pydantic<3,>=1->langchain===0.1.17) (4.9.0)\n",
      "Requirement already satisfied: urllib3<1.27,>=1.21.1 in /Users/agupt38/anaconda3/envs/env_v2_3_11/lib/python3.10/site-packages (from requests<3,>=2->langchain===0.1.17) (1.26.15)\n",
      "Requirement already satisfied: idna<4,>=2.5 in /Users/agupt38/anaconda3/envs/env_v2_3_11/lib/python3.10/site-packages (from requests<3,>=2->langchain===0.1.17) (3.4)\n",
      "Requirement already satisfied: certifi>=2017.4.17 in /Users/agupt38/anaconda3/envs/env_v2_3_11/lib/python3.10/site-packages (from requests<3,>=2->langchain===0.1.17) (2023.5.7)\n",
      "Requirement already satisfied: mypy-extensions>=0.3.0 in /Users/agupt38/anaconda3/envs/env_v2_3_11/lib/python3.10/site-packages (from typing-inspect>=0.4.0->dataclasses-json<0.7,>=0.5.7->langchain===0.1.17) (1.0.0)\n",
      "Requirement already satisfied: langchain-community===0.0.36 in /Users/agupt38/anaconda3/envs/env_v2_3_11/lib/python3.10/site-packages (0.0.36)\n",
      "Requirement already satisfied: langchain-core<0.2.0,>=0.1.48 in /Users/agupt38/anaconda3/envs/env_v2_3_11/lib/python3.10/site-packages (from langchain-community===0.0.36) (0.1.48)\n",
      "Requirement already satisfied: dataclasses-json<0.7,>=0.5.7 in /Users/agupt38/anaconda3/envs/env_v2_3_11/lib/python3.10/site-packages (from langchain-community===0.0.36) (0.5.7)\n",
      "Requirement already satisfied: aiohttp<4.0.0,>=3.8.3 in /Users/agupt38/anaconda3/envs/env_v2_3_11/lib/python3.10/site-packages (from langchain-community===0.0.36) (3.8.4)\n",
      "Requirement already satisfied: numpy<2,>=1 in /Users/agupt38/anaconda3/envs/env_v2_3_11/lib/python3.10/site-packages (from langchain-community===0.0.36) (1.24.3)\n",
      "Requirement already satisfied: SQLAlchemy<3,>=1.4 in /Users/agupt38/anaconda3/envs/env_v2_3_11/lib/python3.10/site-packages (from langchain-community===0.0.36) (2.0.15)\n",
      "Requirement already satisfied: langsmith<0.2.0,>=0.1.0 in /Users/agupt38/anaconda3/envs/env_v2_3_11/lib/python3.10/site-packages (from langchain-community===0.0.36) (0.1.53)\n",
      "Requirement already satisfied: tenacity<9.0.0,>=8.1.0 in /Users/agupt38/anaconda3/envs/env_v2_3_11/lib/python3.10/site-packages (from langchain-community===0.0.36) (8.2.2)\n",
      "Requirement already satisfied: requests<3,>=2 in /Users/agupt38/anaconda3/envs/env_v2_3_11/lib/python3.10/site-packages (from langchain-community===0.0.36) (2.29.0)\n",
      "Requirement already satisfied: PyYAML>=5.3 in /Users/agupt38/anaconda3/envs/env_v2_3_11/lib/python3.10/site-packages (from langchain-community===0.0.36) (6.0)\n",
      "Requirement already satisfied: attrs>=17.3.0 in /Users/agupt38/anaconda3/envs/env_v2_3_11/lib/python3.10/site-packages (from aiohttp<4.0.0,>=3.8.3->langchain-community===0.0.36) (22.1.0)\n",
      "Requirement already satisfied: yarl<2.0,>=1.0 in /Users/agupt38/anaconda3/envs/env_v2_3_11/lib/python3.10/site-packages (from aiohttp<4.0.0,>=3.8.3->langchain-community===0.0.36) (1.9.2)\n",
      "Requirement already satisfied: aiosignal>=1.1.2 in /Users/agupt38/anaconda3/envs/env_v2_3_11/lib/python3.10/site-packages (from aiohttp<4.0.0,>=3.8.3->langchain-community===0.0.36) (1.3.1)\n",
      "Requirement already satisfied: charset-normalizer<4.0,>=2.0 in /Users/agupt38/anaconda3/envs/env_v2_3_11/lib/python3.10/site-packages (from aiohttp<4.0.0,>=3.8.3->langchain-community===0.0.36) (2.0.4)\n",
      "Requirement already satisfied: frozenlist>=1.1.1 in /Users/agupt38/anaconda3/envs/env_v2_3_11/lib/python3.10/site-packages (from aiohttp<4.0.0,>=3.8.3->langchain-community===0.0.36) (1.3.3)\n",
      "Requirement already satisfied: multidict<7.0,>=4.5 in /Users/agupt38/anaconda3/envs/env_v2_3_11/lib/python3.10/site-packages (from aiohttp<4.0.0,>=3.8.3->langchain-community===0.0.36) (6.0.4)\n",
      "Requirement already satisfied: async-timeout<5.0,>=4.0.0a3 in /Users/agupt38/anaconda3/envs/env_v2_3_11/lib/python3.10/site-packages (from aiohttp<4.0.0,>=3.8.3->langchain-community===0.0.36) (4.0.2)\n",
      "Requirement already satisfied: marshmallow<4.0.0,>=3.3.0 in /Users/agupt38/anaconda3/envs/env_v2_3_11/lib/python3.10/site-packages (from dataclasses-json<0.7,>=0.5.7->langchain-community===0.0.36) (3.19.0)\n",
      "Requirement already satisfied: typing-inspect>=0.4.0 in /Users/agupt38/anaconda3/envs/env_v2_3_11/lib/python3.10/site-packages (from dataclasses-json<0.7,>=0.5.7->langchain-community===0.0.36) (0.9.0)\n",
      "Requirement already satisfied: marshmallow-enum<2.0.0,>=1.5.1 in /Users/agupt38/anaconda3/envs/env_v2_3_11/lib/python3.10/site-packages (from dataclasses-json<0.7,>=0.5.7->langchain-community===0.0.36) (1.5.1)\n",
      "Requirement already satisfied: packaging<24.0,>=23.2 in /Users/agupt38/anaconda3/envs/env_v2_3_11/lib/python3.10/site-packages (from langchain-core<0.2.0,>=0.1.48->langchain-community===0.0.36) (23.2)\n",
      "Requirement already satisfied: pydantic<3,>=1 in /Users/agupt38/anaconda3/envs/env_v2_3_11/lib/python3.10/site-packages (from langchain-core<0.2.0,>=0.1.48->langchain-community===0.0.36) (1.10.8)\n",
      "Requirement already satisfied: jsonpatch<2.0,>=1.33 in /Users/agupt38/anaconda3/envs/env_v2_3_11/lib/python3.10/site-packages (from langchain-core<0.2.0,>=0.1.48->langchain-community===0.0.36) (1.33)\n",
      "Requirement already satisfied: orjson<4.0.0,>=3.9.14 in /Users/agupt38/anaconda3/envs/env_v2_3_11/lib/python3.10/site-packages (from langsmith<0.2.0,>=0.1.0->langchain-community===0.0.36) (3.10.2)\n",
      "Requirement already satisfied: idna<4,>=2.5 in /Users/agupt38/anaconda3/envs/env_v2_3_11/lib/python3.10/site-packages (from requests<3,>=2->langchain-community===0.0.36) (3.4)\n",
      "Requirement already satisfied: certifi>=2017.4.17 in /Users/agupt38/anaconda3/envs/env_v2_3_11/lib/python3.10/site-packages (from requests<3,>=2->langchain-community===0.0.36) (2023.5.7)\n",
      "Requirement already satisfied: urllib3<1.27,>=1.21.1 in /Users/agupt38/anaconda3/envs/env_v2_3_11/lib/python3.10/site-packages (from requests<3,>=2->langchain-community===0.0.36) (1.26.15)\n",
      "Requirement already satisfied: typing-extensions>=4.2.0 in /Users/agupt38/anaconda3/envs/env_v2_3_11/lib/python3.10/site-packages (from SQLAlchemy<3,>=1.4->langchain-community===0.0.36) (4.9.0)\n",
      "Requirement already satisfied: jsonpointer>=1.9 in /Users/agupt38/anaconda3/envs/env_v2_3_11/lib/python3.10/site-packages (from jsonpatch<2.0,>=1.33->langchain-core<0.2.0,>=0.1.48->langchain-community===0.0.36) (2.4)\n",
      "Requirement already satisfied: mypy-extensions>=0.3.0 in /Users/agupt38/anaconda3/envs/env_v2_3_11/lib/python3.10/site-packages (from typing-inspect>=0.4.0->dataclasses-json<0.7,>=0.5.7->langchain-community===0.0.36) (1.0.0)\n"
     ]
    }
   ],
   "source": [
    "!pip install langchain-community langchain-core  \n",
    "# 0.1.48\n",
    "!pip install langchain_openai===0.1.5\n",
    "!pip install langsmith==0.1.53\n",
    "%pip install --upgrade --quiet  azure-search-documents\n",
    "%pip install --upgrade --quiet  azure-identity\n",
    "! pip install azure-search-documents --pre \n",
    "! pip install openai==1.3.3\n",
    "! pip install python-dotenv\n",
    "! pip install langchain===0.1.17\n",
    "# !pip install langchain --upgrade \n",
    "!pip install langchain-community===0.0.36"
   ]
  },
  {
   "cell_type": "code",
   "execution_count": 2,
   "metadata": {
    "tags": []
   },
   "outputs": [],
   "source": [
    "import os\n",
    "\n",
    "from langchain_community.vectorstores.azuresearch import AzureSearch\n",
    "from langchain_openai import AzureOpenAIEmbeddings"
   ]
  },
  {
   "cell_type": "code",
   "execution_count": 3,
   "metadata": {
    "collapsed": true,
    "jupyter": {
     "outputs_hidden": true
    },
    "tags": []
   },
   "outputs": [
    {
     "name": "stdout",
     "output_type": "stream",
     "text": [
      "Package                  Version\n",
      "------------------------ ------------\n",
      "aiohttp                  3.8.4\n",
      "aiosignal                1.3.1\n",
      "altair                   5.0.1\n",
      "anyio                    3.5.0\n",
      "appdirs                  1.4.4\n",
      "appnope                  0.1.2\n",
      "argon2-cffi              21.3.0\n",
      "argon2-cffi-bindings     21.2.0\n",
      "asttokens                2.0.5\n",
      "async-timeout            4.0.2\n",
      "attrs                    22.1.0\n",
      "azure-common             1.1.28\n",
      "azure-core               1.29.6\n",
      "azure-cosmos             4.5.1\n",
      "azure-identity           1.16.0\n",
      "azure-search             1.0.0b2\n",
      "azure-search-documents   11.4.0\n",
      "Babel                    2.11.0\n",
      "backcall                 0.2.0\n",
      "backoff                  2.2.1\n",
      "beautifulsoup4           4.12.2\n",
      "bleach                   4.1.0\n",
      "blinker                  1.6.2\n",
      "bokeh                    3.4.1\n",
      "Bottleneck               1.3.5\n",
      "brotlipy                 0.7.0\n",
      "cachetools               5.3.1\n",
      "certifi                  2023.5.7\n",
      "cffi                     1.15.1\n",
      "charset-normalizer       2.0.4\n",
      "chroma-hnswlib           0.7.2\n",
      "chromadb                 0.4.4\n",
      "click                    8.1.6\n",
      "colorama                 0.4.6\n",
      "coloredlogs              15.0.1\n",
      "comm                     0.1.2\n",
      "contourpy                1.2.1\n",
      "cryptography             39.0.1\n",
      "cycler                   0.11.0\n",
      "dataclasses-json         0.5.7\n",
      "debugpy                  1.5.1\n",
      "decorator                5.1.1\n",
      "defusedxml               0.7.1\n",
      "distro                   1.9.0\n",
      "entrypoints              0.4\n",
      "et-xmlfile               1.1.0\n",
      "executing                0.8.3\n",
      "faiss-cpu                1.7.4\n",
      "fastapi                  0.99.1\n",
      "fastjsonschema           2.16.2\n",
      "flatbuffers              23.5.26\n",
      "fonttools                4.25.0\n",
      "frozenlist               1.3.3\n",
      "gitdb                    4.0.10\n",
      "GitPython                3.1.32\n",
      "greenlet                 2.0.1\n",
      "h11                      0.14.0\n",
      "httpcore                 1.0.2\n",
      "httptools                0.6.0\n",
      "httpx                    0.26.0\n",
      "humanfriendly            10.0\n",
      "idna                     3.4\n",
      "importlib-metadata       6.8.0\n",
      "importlib-resources      6.0.0\n",
      "ipykernel                6.19.2\n",
      "ipython                  8.12.0\n",
      "ipython-genutils         0.2.0\n",
      "isodate                  0.6.1\n",
      "jedi                     0.18.1\n",
      "Jinja2                   3.1.2\n",
      "joblib                   1.2.0\n",
      "json5                    0.9.6\n",
      "jsonpatch                1.33\n",
      "jsonpointer              2.4\n",
      "jsonschema               4.17.3\n",
      "jupyter_client           8.1.0\n",
      "jupyter_core             5.3.0\n",
      "jupyter-events           0.6.3\n",
      "jupyter_server           2.5.0\n",
      "jupyter_server_terminals 0.4.4\n",
      "jupyterlab               3.5.3\n",
      "jupyterlab-pygments      0.1.2\n",
      "jupyterlab_server        2.22.0\n",
      "kiwisolver               1.4.4\n",
      "langchain                0.1.17\n",
      "langchain-community      0.0.36\n",
      "langchain-core           0.1.48\n",
      "langchain-openai         0.1.5\n",
      "langchain-text-splitters 0.0.1\n",
      "langchainplus-sdk        0.0.4\n",
      "langsmith                0.1.53\n",
      "linkify-it-py            2.0.3\n",
      "lxml                     4.9.2\n",
      "Markdown                 3.6\n",
      "markdown-it-py           3.0.0\n",
      "MarkupSafe               2.1.1\n",
      "marshmallow              3.19.0\n",
      "marshmallow-enum         1.5.1\n",
      "matplotlib               3.7.1\n",
      "matplotlib-inline        0.1.6\n",
      "mdit-py-plugins          0.4.0\n",
      "mdurl                    0.1.2\n",
      "mistune                  0.8.4\n",
      "monotonic                1.6\n",
      "mpmath                   1.3.0\n",
      "msal                     1.27.0\n",
      "msal-extensions          1.1.0\n",
      "msrest                   0.7.1\n",
      "multidict                6.0.4\n",
      "munkres                  1.1.4\n",
      "mypy-extensions          1.0.0\n",
      "nbclassic                0.5.5\n",
      "nbclient                 0.5.13\n",
      "nbconvert                6.5.4\n",
      "nbformat                 5.7.0\n",
      "nest-asyncio             1.5.6\n",
      "notebook                 6.5.4\n",
      "notebook_shim            0.2.2\n",
      "numexpr                  2.8.4\n",
      "numpy                    1.24.3\n",
      "oauthlib                 3.2.2\n",
      "onnxruntime              1.15.1\n",
      "openai                   1.3.3\n",
      "openapi-schema-pydantic  1.2.4\n",
      "openpyxl                 3.0.10\n",
      "orjson                   3.10.2\n",
      "overrides                7.3.1\n",
      "packaging                23.2\n",
      "pandas                   1.5.3\n",
      "pandas-stubs             1.5.3.230203\n",
      "pandocfilters            1.5.0\n",
      "panel                    1.4.1\n",
      "param                    2.1.0\n",
      "parso                    0.8.3\n",
      "pexpect                  4.8.0\n",
      "pickleshare              0.7.5\n",
      "Pillow                   9.4.0\n",
      "pip                      23.0.1\n",
      "platformdirs             2.5.2\n",
      "plotly                   5.9.0\n",
      "ply                      3.11\n",
      "pooch                    1.4.0\n",
      "portalocker              2.8.2\n",
      "posthog                  3.0.1\n",
      "prometheus-client        0.14.1\n",
      "prompt-toolkit           3.0.36\n",
      "protobuf                 4.23.4\n",
      "psutil                   5.9.0\n",
      "ptyprocess               0.7.0\n",
      "pulsar-client            3.2.0\n",
      "pure-eval                0.2.2\n",
      "pyarrow                  12.0.1\n",
      "pycparser                2.21\n",
      "pydantic                 1.10.8\n",
      "pydeck                   0.8.0\n",
      "Pygments                 2.15.1\n",
      "PyJWT                    2.8.0\n",
      "Pympler                  1.0.1\n",
      "pymssql                  2.2.5\n",
      "pyOpenSSL                23.0.0\n",
      "pyparsing                3.0.9\n",
      "pypdf                    4.2.0\n",
      "PyPika                   0.48.9\n",
      "PyQt5-sip                12.11.0\n",
      "pyrsistent               0.18.0\n",
      "PySocks                  1.7.1\n",
      "python-dateutil          2.8.2\n",
      "python-dotenv            1.0.0\n",
      "python-json-logger       2.0.7\n",
      "pytz                     2022.7\n",
      "pytz-deprecation-shim    0.1.0.post0\n",
      "pyviz_comms              3.0.2\n",
      "PyYAML                   6.0\n",
      "pyzmq                    25.0.2\n",
      "qtconsole                5.4.2\n",
      "QtPy                     2.2.0\n",
      "regex                    2023.6.3\n",
      "requests                 2.29.0\n",
      "requests-oauthlib        2.0.0\n",
      "rfc3339-validator        0.1.4\n",
      "rfc3986-validator        0.1.1\n",
      "rich                     13.5.2\n",
      "scikit-learn             1.2.2\n",
      "scipy                    1.10.1\n",
      "Send2Trash               1.8.0\n",
      "setuptools               67.8.0\n",
      "sip                      6.6.2\n",
      "six                      1.16.0\n",
      "smmap                    5.0.0\n",
      "sniffio                  1.2.0\n",
      "soupsieve                2.4\n",
      "SQLAlchemy               2.0.15\n",
      "stack-data               0.2.0\n",
      "starlette                0.27.0\n",
      "streamlit                1.25.0\n",
      "stringcase               1.2.0\n",
      "sympy                    1.12\n",
      "tenacity                 8.2.2\n",
      "terminado                0.17.1\n",
      "threadpoolctl            2.2.0\n",
      "tiktoken                 0.6.0\n",
      "tinycss2                 1.2.1\n",
      "tokenizers               0.13.3\n",
      "toml                     0.10.2\n",
      "tomli                    2.0.1\n",
      "toolz                    0.12.0\n",
      "tornado                  6.2\n",
      "tqdm                     4.65.0\n",
      "traitlets                5.7.1\n",
      "types-pytz               2022.4.0.0\n",
      "typing_extensions        4.9.0\n",
      "typing-inspect           0.9.0\n",
      "tzdata                   2023.3\n",
      "tzlocal                  4.3.1\n",
      "uc-micro-py              1.0.3\n",
      "urllib3                  1.26.15\n",
      "uvicorn                  0.23.2\n",
      "uvloop                   0.17.0\n",
      "validators               0.20.0\n",
      "watchfiles               0.19.0\n",
      "wcwidth                  0.2.5\n",
      "webencodings             0.5.1\n",
      "websocket-client         0.58.0\n",
      "websockets               11.0.3\n",
      "wheel                    0.38.4\n",
      "xyzservices              2024.4.0\n",
      "yarl                     1.9.2\n",
      "zipp                     3.16.2\n"
     ]
    }
   ],
   "source": [
    "!pip list"
   ]
  },
  {
   "cell_type": "markdown",
   "metadata": {},
   "source": [
    "# Azure Cognitive Search LangChain Vector Code Sample\n",
    "This code demonstrates how to use Azure Cognitive Search with OpenAI and the Azure Cognitive Search LangChain Vector Store\n",
    "To run the code, install the following packages. Please use the latest pre-release version `pip install azure-search-documents==11.4.0b6` until the Langchain AzureSearch vector store integration gets updated with the latest python azure sdk updates`."
   ]
  },
  {
   "cell_type": "code",
   "execution_count": 3,
   "metadata": {
    "tags": []
   },
   "outputs": [],
   "source": [
    "from dotenv import dotenv_values\n",
    "from azure.identity import DefaultAzureCredential\n",
    "import os\n",
    "\n",
    "env_name = \"cosmos.env\"\n",
    "config = dotenv_values(env_name)\n",
    "\n",
    "cosmosdb_endpoint = config['cosmos_db_api_endpoint']\n",
    "cosmosdb_key = config['cosmos_db_api_key']\n",
    "cosmosdb_connection_str = config['cosmos_db_connection_string']\n",
    "\n",
    "endpoint = config['cognitive_search_api_endpoint']\n",
    "key_credential = config['cognitive_search_api_key'] if len(config['cognitive_search_api_key']) > 0 else None\n",
    "index_name = \"cosmos-vector-index\"\n",
    "azure_openai_endpoint = config['openai_api_endpoint']\n",
    "azure_openai_key = config['openai_api_key'] if len(config['openai_api_key']) > 0 else None\n",
    "azure_openai_embedding_deployment = config['openai_embeddings_deployment']\n",
    "embedding_model_name = config['openai_completions_deployment']\n",
    "azure_openai_api_version = config['openai_api_version']\n",
    "\n",
    "completions_deployment = config['openai_completions_deployment']\n",
    "\n",
    "AZURE_OPENAI_API_KEY=azure_openai_key"
   ]
  },
  {
   "cell_type": "code",
   "execution_count": 4,
   "metadata": {
    "tags": []
   },
   "outputs": [],
   "source": [
    "from azure.search.documents.indexes import SearchIndexClient\n",
    "from azure.search.documents.indexes.models import (\n",
    "    SimpleField,\n",
    "    SearchFieldDataType,\n",
    "    SearchableField,\n",
    "    SearchField,\n",
    "    VectorSearch,\n",
    "    HnswAlgorithmConfiguration,\n",
    "    VectorSearchProfile,\n",
    "    SemanticConfiguration,\n",
    "    SemanticPrioritizedFields,\n",
    "    SemanticField,\n",
    "    SemanticSearch,\n",
    "    SearchIndex\n",
    ")\n",
    "from azure.core.credentials import AzureKeyCredential\n",
    "\n",
    "credential = AzureKeyCredential(key_credential)"
   ]
  },
  {
   "cell_type": "markdown",
   "metadata": {},
   "source": [
    "## Import required libraries and environment variables"
   ]
  },
  {
   "cell_type": "code",
   "execution_count": 5,
   "metadata": {
    "tags": []
   },
   "outputs": [],
   "source": [
    "# Import required libraries  \n",
    "import openai\n",
    "import os  \n",
    "from dotenv import load_dotenv\n",
    "from langchain.embeddings.openai import OpenAIEmbeddings\n",
    "\n",
    "from langchain.chat_models import AzureChatOpenAI\n",
    "\n",
    "from langchain.document_loaders import DirectoryLoader\n",
    "from langchain.document_loaders import TextLoader\n",
    "from langchain.text_splitter import TokenTextSplitter\n",
    "from langchain.chains import ConversationalRetrievalChain\n",
    "from langchain.prompts import PromptTemplate\n"
   ]
  },
  {
   "cell_type": "code",
   "execution_count": 6,
   "metadata": {
    "tags": []
   },
   "outputs": [],
   "source": [
    "from azure.search.documents.indexes.models import (\n",
    "    SemanticSearch,\n",
    "    SemanticConfiguration,\n",
    "    SemanticPrioritizedFields,\n",
    "    SemanticField\n",
    ")"
   ]
  },
  {
   "cell_type": "markdown",
   "metadata": {},
   "source": [
    " ## Configure Vector Store Settings"
   ]
  },
  {
   "cell_type": "code",
   "execution_count": 7,
   "metadata": {
    "tags": []
   },
   "outputs": [],
   "source": [
    "# vector_store_address: str = os.getenv(\"AZURE_SEARCH_SERVICE_ENDPOINT\")  \n",
    "# vector_store_password: str = os.getenv(\"AZURE_SEARCH_ADMIN_KEY\") \n",
    "vector_store_address: str = config['cognitive_search_api_endpoint']  \n",
    "vector_store_password: str = config['cognitive_search_api_key']"
   ]
  },
  {
   "cell_type": "markdown",
   "metadata": {},
   "source": [
    "## Configure OpenAI Settings"
   ]
  },
  {
   "cell_type": "code",
   "execution_count": 8,
   "metadata": {},
   "outputs": [
    {
     "name": "stderr",
     "output_type": "stream",
     "text": [
      "/Users/agupt38/anaconda3/envs/env_v2_3_11/lib/python3.10/site-packages/langchain_core/_api/deprecation.py:119: LangChainDeprecationWarning: The class `AzureChatOpenAI` was deprecated in LangChain 0.0.10 and will be removed in 0.2.0. An updated version of the class exists in the langchain-openai package and should be used instead. To use it run `pip install -U langchain-openai` and import as `from langchain_openai import AzureChatOpenAI`.\n",
      "  warn_deprecated(\n"
     ]
    }
   ],
   "source": [
    "llm = AzureChatOpenAI(deployment_name='conv_ai-dm', \n",
    "                      model_name='gpt-35-turbo',\n",
    "                      api_key=azure_openai_key,\n",
    "                      api_version='2024-02-15-preview',\n",
    "                      azure_endpoint='https://openai-ccat-poc1.openai.azure.com/',)"
   ]
  },
  {
   "cell_type": "markdown",
   "metadata": {},
   "source": [
    "## Create embeddings and vector store instances\n",
    "Read your data, generate OpenAI embeddings and export to a format to insert your Azure Cognitive Search index:"
   ]
  },
  {
   "cell_type": "code",
   "execution_count": 9,
   "metadata": {
    "tags": []
   },
   "outputs": [],
   "source": [
    "from langchain.vectorstores.azuresearch import AzureSearch"
   ]
  },
  {
   "cell_type": "code",
   "execution_count": null,
   "metadata": {
    "tags": []
   },
   "outputs": [],
   "source": [
    "# embeddings: AzureOpenAIEmbeddings = AzureOpenAIEmbeddings(\n",
    "#     azure_deployment=azure_openai_embedding_deployment,\n",
    "#     openai_api_version=azure_openai_api_version,\n",
    "#     azure_endpoint=azure_openai_endpoint,\n",
    "#     api_key=azure_openai_key,\n",
    "# )"
   ]
  },
  {
   "cell_type": "code",
   "execution_count": 13,
   "metadata": {},
   "outputs": [],
   "source": [
    "embeddings: AzureOpenAIEmbeddings = AzureOpenAIEmbeddings(\n",
    "    azure_deployment=completions_deployment,\n",
    "    openai_api_version=azure_openai_api_version,\n",
    "    azure_endpoint=azure_openai_endpoint,\n",
    "    api_key=azure_openai_key,\n",
    ")"
   ]
  },
  {
   "cell_type": "code",
   "execution_count": 14,
   "metadata": {
    "tags": []
   },
   "outputs": [],
   "source": [
    "index_name: str = \"document-index-hausman\"\n",
    "vector_store: AzureSearch = AzureSearch(\n",
    "    azure_search_endpoint=endpoint,\n",
    "    azure_search_key=key_credential,\n",
    "    index_name=index_name,\n",
    "    embedding_function=embeddings.embed_query,\n",
    ")"
   ]
  },
  {
   "cell_type": "code",
   "execution_count": 12,
   "metadata": {
    "collapsed": true,
    "jupyter": {
     "outputs_hidden": true
    },
    "tags": []
   },
   "outputs": [
    {
     "ename": "NotFoundError",
     "evalue": "Error code: 404 - {'error': {'code': 'DeploymentNotFound', 'message': 'The API deployment for this resource does not exist. If you created the deployment within the last 5 minutes, please wait a moment and try again.'}}",
     "output_type": "error",
     "traceback": [
      "\u001b[0;31m---------------------------------------------------------------------------\u001b[0m",
      "\u001b[0;31mNotFoundError\u001b[0m                             Traceback (most recent call last)",
      "Cell \u001b[0;32mIn[12], line 2\u001b[0m\n\u001b[1;32m      1\u001b[0m index_name: \u001b[38;5;28mstr\u001b[39m \u001b[38;5;241m=\u001b[39m \u001b[38;5;124m\"\u001b[39m\u001b[38;5;124mdocument-index-lakeland\u001b[39m\u001b[38;5;124m\"\u001b[39m\n\u001b[0;32m----> 2\u001b[0m vector_store: AzureSearch \u001b[38;5;241m=\u001b[39m \u001b[43mAzureSearch\u001b[49m\u001b[43m(\u001b[49m\n\u001b[1;32m      3\u001b[0m \u001b[43m    \u001b[49m\u001b[43mazure_search_endpoint\u001b[49m\u001b[38;5;241;43m=\u001b[39;49m\u001b[43mendpoint\u001b[49m\u001b[43m,\u001b[49m\n\u001b[1;32m      4\u001b[0m \u001b[43m    \u001b[49m\u001b[43mazure_search_key\u001b[49m\u001b[38;5;241;43m=\u001b[39;49m\u001b[43mkey_credential\u001b[49m\u001b[43m,\u001b[49m\n\u001b[1;32m      5\u001b[0m \u001b[43m    \u001b[49m\u001b[43mindex_name\u001b[49m\u001b[38;5;241;43m=\u001b[39;49m\u001b[43mindex_name\u001b[49m\u001b[43m,\u001b[49m\n\u001b[1;32m      6\u001b[0m \u001b[43m    \u001b[49m\u001b[43membedding_function\u001b[49m\u001b[38;5;241;43m=\u001b[39;49m\u001b[43membeddings\u001b[49m\u001b[38;5;241;43m.\u001b[39;49m\u001b[43membed_query\u001b[49m\u001b[43m,\u001b[49m\n\u001b[1;32m      7\u001b[0m \u001b[43m)\u001b[49m\n",
      "File \u001b[0;32m~/anaconda3/envs/env_v2_3_11/lib/python3.10/site-packages/langchain_community/vectorstores/azuresearch.py:274\u001b[0m, in \u001b[0;36mAzureSearch.__init__\u001b[0;34m(self, azure_search_endpoint, azure_search_key, index_name, embedding_function, search_type, semantic_configuration_name, fields, vector_search, semantic_configurations, scoring_profiles, default_scoring_profile, cors_options, **kwargs)\u001b[0m\n\u001b[1;32m    256\u001b[0m \u001b[38;5;28;01melse\u001b[39;00m:\n\u001b[1;32m    257\u001b[0m     \u001b[38;5;28mself\u001b[39m\u001b[38;5;241m.\u001b[39membed_query \u001b[38;5;241m=\u001b[39m \u001b[38;5;28mself\u001b[39m\u001b[38;5;241m.\u001b[39membedding_function\n\u001b[1;32m    259\u001b[0m default_fields \u001b[38;5;241m=\u001b[39m [\n\u001b[1;32m    260\u001b[0m     SimpleField(\n\u001b[1;32m    261\u001b[0m         name\u001b[38;5;241m=\u001b[39mFIELDS_ID,\n\u001b[1;32m    262\u001b[0m         \u001b[38;5;28mtype\u001b[39m\u001b[38;5;241m=\u001b[39mSearchFieldDataType\u001b[38;5;241m.\u001b[39mString,\n\u001b[1;32m    263\u001b[0m         key\u001b[38;5;241m=\u001b[39m\u001b[38;5;28;01mTrue\u001b[39;00m,\n\u001b[1;32m    264\u001b[0m         filterable\u001b[38;5;241m=\u001b[39m\u001b[38;5;28;01mTrue\u001b[39;00m,\n\u001b[1;32m    265\u001b[0m     ),\n\u001b[1;32m    266\u001b[0m     SearchableField(\n\u001b[1;32m    267\u001b[0m         name\u001b[38;5;241m=\u001b[39mFIELDS_CONTENT,\n\u001b[1;32m    268\u001b[0m         \u001b[38;5;28mtype\u001b[39m\u001b[38;5;241m=\u001b[39mSearchFieldDataType\u001b[38;5;241m.\u001b[39mString,\n\u001b[1;32m    269\u001b[0m     ),\n\u001b[1;32m    270\u001b[0m     SearchField(\n\u001b[1;32m    271\u001b[0m         name\u001b[38;5;241m=\u001b[39mFIELDS_CONTENT_VECTOR,\n\u001b[1;32m    272\u001b[0m         \u001b[38;5;28mtype\u001b[39m\u001b[38;5;241m=\u001b[39mSearchFieldDataType\u001b[38;5;241m.\u001b[39mCollection(SearchFieldDataType\u001b[38;5;241m.\u001b[39mSingle),\n\u001b[1;32m    273\u001b[0m         searchable\u001b[38;5;241m=\u001b[39m\u001b[38;5;28;01mTrue\u001b[39;00m,\n\u001b[0;32m--> 274\u001b[0m         vector_search_dimensions\u001b[38;5;241m=\u001b[39m\u001b[38;5;28mlen\u001b[39m(\u001b[38;5;28;43mself\u001b[39;49m\u001b[38;5;241;43m.\u001b[39;49m\u001b[43membed_query\u001b[49m\u001b[43m(\u001b[49m\u001b[38;5;124;43m\"\u001b[39;49m\u001b[38;5;124;43mText\u001b[39;49m\u001b[38;5;124;43m\"\u001b[39;49m\u001b[43m)\u001b[49m),\n\u001b[1;32m    275\u001b[0m         vector_search_profile_name\u001b[38;5;241m=\u001b[39m\u001b[38;5;124m\"\u001b[39m\u001b[38;5;124mmyHnswProfile\u001b[39m\u001b[38;5;124m\"\u001b[39m,\n\u001b[1;32m    276\u001b[0m     ),\n\u001b[1;32m    277\u001b[0m     SearchableField(\n\u001b[1;32m    278\u001b[0m         name\u001b[38;5;241m=\u001b[39mFIELDS_METADATA,\n\u001b[1;32m    279\u001b[0m         \u001b[38;5;28mtype\u001b[39m\u001b[38;5;241m=\u001b[39mSearchFieldDataType\u001b[38;5;241m.\u001b[39mString,\n\u001b[1;32m    280\u001b[0m     ),\n\u001b[1;32m    281\u001b[0m ]\n\u001b[1;32m    282\u001b[0m user_agent \u001b[38;5;241m=\u001b[39m \u001b[38;5;124m\"\u001b[39m\u001b[38;5;124mlangchain\u001b[39m\u001b[38;5;124m\"\u001b[39m\n\u001b[1;32m    283\u001b[0m \u001b[38;5;28;01mif\u001b[39;00m \u001b[38;5;124m\"\u001b[39m\u001b[38;5;124muser_agent\u001b[39m\u001b[38;5;124m\"\u001b[39m \u001b[38;5;129;01min\u001b[39;00m kwargs \u001b[38;5;129;01mand\u001b[39;00m kwargs[\u001b[38;5;124m\"\u001b[39m\u001b[38;5;124muser_agent\u001b[39m\u001b[38;5;124m\"\u001b[39m]:\n",
      "File \u001b[0;32m~/anaconda3/envs/env_v2_3_11/lib/python3.10/site-packages/langchain_openai/embeddings/base.py:530\u001b[0m, in \u001b[0;36mOpenAIEmbeddings.embed_query\u001b[0;34m(self, text)\u001b[0m\n\u001b[1;32m    521\u001b[0m \u001b[38;5;28;01mdef\u001b[39;00m \u001b[38;5;21membed_query\u001b[39m(\u001b[38;5;28mself\u001b[39m, text: \u001b[38;5;28mstr\u001b[39m) \u001b[38;5;241m-\u001b[39m\u001b[38;5;241m>\u001b[39m List[\u001b[38;5;28mfloat\u001b[39m]:\n\u001b[1;32m    522\u001b[0m \u001b[38;5;250m    \u001b[39m\u001b[38;5;124;03m\"\"\"Call out to OpenAI's embedding endpoint for embedding query text.\u001b[39;00m\n\u001b[1;32m    523\u001b[0m \n\u001b[1;32m    524\u001b[0m \u001b[38;5;124;03m    Args:\u001b[39;00m\n\u001b[0;32m   (...)\u001b[0m\n\u001b[1;32m    528\u001b[0m \u001b[38;5;124;03m        Embedding for the text.\u001b[39;00m\n\u001b[1;32m    529\u001b[0m \u001b[38;5;124;03m    \"\"\"\u001b[39;00m\n\u001b[0;32m--> 530\u001b[0m     \u001b[38;5;28;01mreturn\u001b[39;00m \u001b[38;5;28;43mself\u001b[39;49m\u001b[38;5;241;43m.\u001b[39;49m\u001b[43membed_documents\u001b[49m\u001b[43m(\u001b[49m\u001b[43m[\u001b[49m\u001b[43mtext\u001b[49m\u001b[43m]\u001b[49m\u001b[43m)\u001b[49m[\u001b[38;5;241m0\u001b[39m]\n",
      "File \u001b[0;32m~/anaconda3/envs/env_v2_3_11/lib/python3.10/site-packages/langchain_openai/embeddings/base.py:489\u001b[0m, in \u001b[0;36mOpenAIEmbeddings.embed_documents\u001b[0;34m(self, texts, chunk_size)\u001b[0m\n\u001b[1;32m    486\u001b[0m \u001b[38;5;66;03m# NOTE: to keep things simple, we assume the list may contain texts longer\u001b[39;00m\n\u001b[1;32m    487\u001b[0m \u001b[38;5;66;03m#       than the maximum context and use length-safe embedding function.\u001b[39;00m\n\u001b[1;32m    488\u001b[0m engine \u001b[38;5;241m=\u001b[39m cast(\u001b[38;5;28mstr\u001b[39m, \u001b[38;5;28mself\u001b[39m\u001b[38;5;241m.\u001b[39mdeployment)\n\u001b[0;32m--> 489\u001b[0m \u001b[38;5;28;01mreturn\u001b[39;00m \u001b[38;5;28;43mself\u001b[39;49m\u001b[38;5;241;43m.\u001b[39;49m\u001b[43m_get_len_safe_embeddings\u001b[49m\u001b[43m(\u001b[49m\u001b[43mtexts\u001b[49m\u001b[43m,\u001b[49m\u001b[43m \u001b[49m\u001b[43mengine\u001b[49m\u001b[38;5;241;43m=\u001b[39;49m\u001b[43mengine\u001b[49m\u001b[43m)\u001b[49m\n",
      "File \u001b[0;32m~/anaconda3/envs/env_v2_3_11/lib/python3.10/site-packages/langchain_openai/embeddings/base.py:347\u001b[0m, in \u001b[0;36mOpenAIEmbeddings._get_len_safe_embeddings\u001b[0;34m(self, texts, engine, chunk_size)\u001b[0m\n\u001b[1;32m    345\u001b[0m batched_embeddings: List[List[\u001b[38;5;28mfloat\u001b[39m]] \u001b[38;5;241m=\u001b[39m []\n\u001b[1;32m    346\u001b[0m \u001b[38;5;28;01mfor\u001b[39;00m i \u001b[38;5;129;01min\u001b[39;00m _iter:\n\u001b[0;32m--> 347\u001b[0m     response \u001b[38;5;241m=\u001b[39m \u001b[38;5;28;43mself\u001b[39;49m\u001b[38;5;241;43m.\u001b[39;49m\u001b[43mclient\u001b[49m\u001b[38;5;241;43m.\u001b[39;49m\u001b[43mcreate\u001b[49m\u001b[43m(\u001b[49m\n\u001b[1;32m    348\u001b[0m \u001b[43m        \u001b[49m\u001b[38;5;28;43minput\u001b[39;49m\u001b[38;5;241;43m=\u001b[39;49m\u001b[43mtokens\u001b[49m\u001b[43m[\u001b[49m\u001b[43mi\u001b[49m\u001b[43m \u001b[49m\u001b[43m:\u001b[49m\u001b[43m \u001b[49m\u001b[43mi\u001b[49m\u001b[43m \u001b[49m\u001b[38;5;241;43m+\u001b[39;49m\u001b[43m \u001b[49m\u001b[43m_chunk_size\u001b[49m\u001b[43m]\u001b[49m\u001b[43m,\u001b[49m\u001b[43m \u001b[49m\u001b[38;5;241;43m*\u001b[39;49m\u001b[38;5;241;43m*\u001b[39;49m\u001b[38;5;28;43mself\u001b[39;49m\u001b[38;5;241;43m.\u001b[39;49m\u001b[43m_invocation_params\u001b[49m\n\u001b[1;32m    349\u001b[0m \u001b[43m    \u001b[49m\u001b[43m)\u001b[49m\n\u001b[1;32m    350\u001b[0m     \u001b[38;5;28;01mif\u001b[39;00m \u001b[38;5;129;01mnot\u001b[39;00m \u001b[38;5;28misinstance\u001b[39m(response, \u001b[38;5;28mdict\u001b[39m):\n\u001b[1;32m    351\u001b[0m         response \u001b[38;5;241m=\u001b[39m response\u001b[38;5;241m.\u001b[39mmodel_dump()\n",
      "File \u001b[0;32m~/anaconda3/envs/env_v2_3_11/lib/python3.10/site-packages/openai/resources/embeddings.py:105\u001b[0m, in \u001b[0;36mEmbeddings.create\u001b[0;34m(self, input, model, encoding_format, user, extra_headers, extra_query, extra_body, timeout)\u001b[0m\n\u001b[1;32m     99\u001b[0m         embedding\u001b[38;5;241m.\u001b[39membedding \u001b[38;5;241m=\u001b[39m np\u001b[38;5;241m.\u001b[39mfrombuffer(  \u001b[38;5;66;03m# type: ignore[no-untyped-call]\u001b[39;00m\n\u001b[1;32m    100\u001b[0m             base64\u001b[38;5;241m.\u001b[39mb64decode(data), dtype\u001b[38;5;241m=\u001b[39m\u001b[38;5;124m\"\u001b[39m\u001b[38;5;124mfloat32\u001b[39m\u001b[38;5;124m\"\u001b[39m\n\u001b[1;32m    101\u001b[0m         )\u001b[38;5;241m.\u001b[39mtolist()\n\u001b[1;32m    103\u001b[0m     \u001b[38;5;28;01mreturn\u001b[39;00m obj\n\u001b[0;32m--> 105\u001b[0m \u001b[38;5;28;01mreturn\u001b[39;00m \u001b[38;5;28;43mself\u001b[39;49m\u001b[38;5;241;43m.\u001b[39;49m\u001b[43m_post\u001b[49m\u001b[43m(\u001b[49m\n\u001b[1;32m    106\u001b[0m \u001b[43m    \u001b[49m\u001b[38;5;124;43m\"\u001b[39;49m\u001b[38;5;124;43m/embeddings\u001b[39;49m\u001b[38;5;124;43m\"\u001b[39;49m\u001b[43m,\u001b[49m\n\u001b[1;32m    107\u001b[0m \u001b[43m    \u001b[49m\u001b[43mbody\u001b[49m\u001b[38;5;241;43m=\u001b[39;49m\u001b[43mmaybe_transform\u001b[49m\u001b[43m(\u001b[49m\u001b[43mparams\u001b[49m\u001b[43m,\u001b[49m\u001b[43m \u001b[49m\u001b[43membedding_create_params\u001b[49m\u001b[38;5;241;43m.\u001b[39;49m\u001b[43mEmbeddingCreateParams\u001b[49m\u001b[43m)\u001b[49m\u001b[43m,\u001b[49m\n\u001b[1;32m    108\u001b[0m \u001b[43m    \u001b[49m\u001b[43moptions\u001b[49m\u001b[38;5;241;43m=\u001b[39;49m\u001b[43mmake_request_options\u001b[49m\u001b[43m(\u001b[49m\n\u001b[1;32m    109\u001b[0m \u001b[43m        \u001b[49m\u001b[43mextra_headers\u001b[49m\u001b[38;5;241;43m=\u001b[39;49m\u001b[43mextra_headers\u001b[49m\u001b[43m,\u001b[49m\n\u001b[1;32m    110\u001b[0m \u001b[43m        \u001b[49m\u001b[43mextra_query\u001b[49m\u001b[38;5;241;43m=\u001b[39;49m\u001b[43mextra_query\u001b[49m\u001b[43m,\u001b[49m\n\u001b[1;32m    111\u001b[0m \u001b[43m        \u001b[49m\u001b[43mextra_body\u001b[49m\u001b[38;5;241;43m=\u001b[39;49m\u001b[43mextra_body\u001b[49m\u001b[43m,\u001b[49m\n\u001b[1;32m    112\u001b[0m \u001b[43m        \u001b[49m\u001b[43mtimeout\u001b[49m\u001b[38;5;241;43m=\u001b[39;49m\u001b[43mtimeout\u001b[49m\u001b[43m,\u001b[49m\n\u001b[1;32m    113\u001b[0m \u001b[43m        \u001b[49m\u001b[43mpost_parser\u001b[49m\u001b[38;5;241;43m=\u001b[39;49m\u001b[43mparser\u001b[49m\u001b[43m,\u001b[49m\n\u001b[1;32m    114\u001b[0m \u001b[43m    \u001b[49m\u001b[43m)\u001b[49m\u001b[43m,\u001b[49m\n\u001b[1;32m    115\u001b[0m \u001b[43m    \u001b[49m\u001b[43mcast_to\u001b[49m\u001b[38;5;241;43m=\u001b[39;49m\u001b[43mCreateEmbeddingResponse\u001b[49m\u001b[43m,\u001b[49m\n\u001b[1;32m    116\u001b[0m \u001b[43m\u001b[49m\u001b[43m)\u001b[49m\n",
      "File \u001b[0;32m~/anaconda3/envs/env_v2_3_11/lib/python3.10/site-packages/openai/_base_client.py:1055\u001b[0m, in \u001b[0;36mSyncAPIClient.post\u001b[0;34m(self, path, cast_to, body, options, files, stream, stream_cls)\u001b[0m\n\u001b[1;32m   1041\u001b[0m \u001b[38;5;28;01mdef\u001b[39;00m \u001b[38;5;21mpost\u001b[39m(\n\u001b[1;32m   1042\u001b[0m     \u001b[38;5;28mself\u001b[39m,\n\u001b[1;32m   1043\u001b[0m     path: \u001b[38;5;28mstr\u001b[39m,\n\u001b[0;32m   (...)\u001b[0m\n\u001b[1;32m   1050\u001b[0m     stream_cls: \u001b[38;5;28mtype\u001b[39m[_StreamT] \u001b[38;5;241m|\u001b[39m \u001b[38;5;28;01mNone\u001b[39;00m \u001b[38;5;241m=\u001b[39m \u001b[38;5;28;01mNone\u001b[39;00m,\n\u001b[1;32m   1051\u001b[0m ) \u001b[38;5;241m-\u001b[39m\u001b[38;5;241m>\u001b[39m ResponseT \u001b[38;5;241m|\u001b[39m _StreamT:\n\u001b[1;32m   1052\u001b[0m     opts \u001b[38;5;241m=\u001b[39m FinalRequestOptions\u001b[38;5;241m.\u001b[39mconstruct(\n\u001b[1;32m   1053\u001b[0m         method\u001b[38;5;241m=\u001b[39m\u001b[38;5;124m\"\u001b[39m\u001b[38;5;124mpost\u001b[39m\u001b[38;5;124m\"\u001b[39m, url\u001b[38;5;241m=\u001b[39mpath, json_data\u001b[38;5;241m=\u001b[39mbody, files\u001b[38;5;241m=\u001b[39mto_httpx_files(files), \u001b[38;5;241m*\u001b[39m\u001b[38;5;241m*\u001b[39moptions\n\u001b[1;32m   1054\u001b[0m     )\n\u001b[0;32m-> 1055\u001b[0m     \u001b[38;5;28;01mreturn\u001b[39;00m cast(ResponseT, \u001b[38;5;28;43mself\u001b[39;49m\u001b[38;5;241;43m.\u001b[39;49m\u001b[43mrequest\u001b[49m\u001b[43m(\u001b[49m\u001b[43mcast_to\u001b[49m\u001b[43m,\u001b[49m\u001b[43m \u001b[49m\u001b[43mopts\u001b[49m\u001b[43m,\u001b[49m\u001b[43m \u001b[49m\u001b[43mstream\u001b[49m\u001b[38;5;241;43m=\u001b[39;49m\u001b[43mstream\u001b[49m\u001b[43m,\u001b[49m\u001b[43m \u001b[49m\u001b[43mstream_cls\u001b[49m\u001b[38;5;241;43m=\u001b[39;49m\u001b[43mstream_cls\u001b[49m\u001b[43m)\u001b[49m)\n",
      "File \u001b[0;32m~/anaconda3/envs/env_v2_3_11/lib/python3.10/site-packages/openai/_base_client.py:834\u001b[0m, in \u001b[0;36mSyncAPIClient.request\u001b[0;34m(self, cast_to, options, remaining_retries, stream, stream_cls)\u001b[0m\n\u001b[1;32m    825\u001b[0m \u001b[38;5;28;01mdef\u001b[39;00m \u001b[38;5;21mrequest\u001b[39m(\n\u001b[1;32m    826\u001b[0m     \u001b[38;5;28mself\u001b[39m,\n\u001b[1;32m    827\u001b[0m     cast_to: Type[ResponseT],\n\u001b[0;32m   (...)\u001b[0m\n\u001b[1;32m    832\u001b[0m     stream_cls: \u001b[38;5;28mtype\u001b[39m[_StreamT] \u001b[38;5;241m|\u001b[39m \u001b[38;5;28;01mNone\u001b[39;00m \u001b[38;5;241m=\u001b[39m \u001b[38;5;28;01mNone\u001b[39;00m,\n\u001b[1;32m    833\u001b[0m ) \u001b[38;5;241m-\u001b[39m\u001b[38;5;241m>\u001b[39m ResponseT \u001b[38;5;241m|\u001b[39m _StreamT:\n\u001b[0;32m--> 834\u001b[0m     \u001b[38;5;28;01mreturn\u001b[39;00m \u001b[38;5;28;43mself\u001b[39;49m\u001b[38;5;241;43m.\u001b[39;49m\u001b[43m_request\u001b[49m\u001b[43m(\u001b[49m\n\u001b[1;32m    835\u001b[0m \u001b[43m        \u001b[49m\u001b[43mcast_to\u001b[49m\u001b[38;5;241;43m=\u001b[39;49m\u001b[43mcast_to\u001b[49m\u001b[43m,\u001b[49m\n\u001b[1;32m    836\u001b[0m \u001b[43m        \u001b[49m\u001b[43moptions\u001b[49m\u001b[38;5;241;43m=\u001b[39;49m\u001b[43moptions\u001b[49m\u001b[43m,\u001b[49m\n\u001b[1;32m    837\u001b[0m \u001b[43m        \u001b[49m\u001b[43mstream\u001b[49m\u001b[38;5;241;43m=\u001b[39;49m\u001b[43mstream\u001b[49m\u001b[43m,\u001b[49m\n\u001b[1;32m    838\u001b[0m \u001b[43m        \u001b[49m\u001b[43mstream_cls\u001b[49m\u001b[38;5;241;43m=\u001b[39;49m\u001b[43mstream_cls\u001b[49m\u001b[43m,\u001b[49m\n\u001b[1;32m    839\u001b[0m \u001b[43m        \u001b[49m\u001b[43mremaining_retries\u001b[49m\u001b[38;5;241;43m=\u001b[39;49m\u001b[43mremaining_retries\u001b[49m\u001b[43m,\u001b[49m\n\u001b[1;32m    840\u001b[0m \u001b[43m    \u001b[49m\u001b[43m)\u001b[49m\n",
      "File \u001b[0;32m~/anaconda3/envs/env_v2_3_11/lib/python3.10/site-packages/openai/_base_client.py:877\u001b[0m, in \u001b[0;36mSyncAPIClient._request\u001b[0;34m(self, cast_to, options, remaining_retries, stream, stream_cls)\u001b[0m\n\u001b[1;32m    874\u001b[0m     \u001b[38;5;66;03m# If the response is streamed then we need to explicitly read the response\u001b[39;00m\n\u001b[1;32m    875\u001b[0m     \u001b[38;5;66;03m# to completion before attempting to access the response text.\u001b[39;00m\n\u001b[1;32m    876\u001b[0m     err\u001b[38;5;241m.\u001b[39mresponse\u001b[38;5;241m.\u001b[39mread()\n\u001b[0;32m--> 877\u001b[0m     \u001b[38;5;28;01mraise\u001b[39;00m \u001b[38;5;28mself\u001b[39m\u001b[38;5;241m.\u001b[39m_make_status_error_from_response(err\u001b[38;5;241m.\u001b[39mresponse) \u001b[38;5;28;01mfrom\u001b[39;00m \u001b[38;5;28;01mNone\u001b[39;00m\n\u001b[1;32m    878\u001b[0m \u001b[38;5;28;01mexcept\u001b[39;00m httpx\u001b[38;5;241m.\u001b[39mTimeoutException \u001b[38;5;28;01mas\u001b[39;00m err:\n\u001b[1;32m    879\u001b[0m     \u001b[38;5;28;01mif\u001b[39;00m retries \u001b[38;5;241m>\u001b[39m \u001b[38;5;241m0\u001b[39m:\n",
      "\u001b[0;31mNotFoundError\u001b[0m: Error code: 404 - {'error': {'code': 'DeploymentNotFound', 'message': 'The API deployment for this resource does not exist. If you created the deployment within the last 5 minutes, please wait a moment and try again.'}}"
     ]
    }
   ],
   "source": [
    "index_name: str = \"document-index-lakeland\"\n",
    "vector_store: AzureSearch = AzureSearch(\n",
    "    azure_search_endpoint=endpoint,\n",
    "    azure_search_key=key_credential,\n",
    "    index_name=index_name,\n",
    "    embedding_function=embeddings.embed_query,\n",
    ")"
   ]
  },
  {
   "cell_type": "markdown",
   "metadata": {},
   "source": [
    "## Insert text and embeddings into vector store"
   ]
  },
  {
   "cell_type": "code",
   "execution_count": 15,
   "metadata": {
    "tags": []
   },
   "outputs": [
    {
     "name": "stdout",
     "output_type": "stream",
     "text": [
      "Requirement already satisfied: pypdf in /Users/agupt38/anaconda3/envs/env_v2_3_11/lib/python3.10/site-packages (4.2.0)\n",
      "Requirement already satisfied: typing_extensions>=4.0 in /Users/agupt38/anaconda3/envs/env_v2_3_11/lib/python3.10/site-packages (from pypdf) (4.9.0)\n"
     ]
    }
   ],
   "source": [
    "!pip install pypdf"
   ]
  },
  {
   "cell_type": "code",
   "execution_count": 17,
   "metadata": {
    "tags": []
   },
   "outputs": [
    {
     "data": {
      "text/plain": [
       "['NmQ4NWMzY2UtMDcxNS00OGUzLWI1MWQtYjE4YjA0OTc2ZDQ2',\n",
       " 'NTE4MDlhOTMtODAyYy00Yzg1LTk1OWYtMzI4YzA3ZDgzNGIw',\n",
       " 'YzdiM2QxNzYtN2Y5NC00ZWRiLTk0YmEtMDY2NGJmODJjYzk2',\n",
       " 'Y2VhMmYzMmUtYjE3Mi00ZjdiLWJiYmEtNmQ5ODMwN2FmMDA4',\n",
       " 'MGVmODBlN2UtZDRkZS00NWEzLWE2MDYtZjA3MTc4NmViYWZk',\n",
       " 'OGE1YWJkZDAtYTYyZS00MWU3LTg4NzQtMDIyMjRiYWM1Y2Ez',\n",
       " 'ZWI0OWY3NmUtMjVmYy00MTk0LWI5OTEtZmQ3Zjg0MjgyZmZm',\n",
       " 'YmZiNTNkMzYtNGY2NC00YTg0LWFjYjktYWE5NzUyNWVmMDY0',\n",
       " 'YTRlNDhlOTktMWFhNS00OGRjLWI4ODMtYTZlZTkwNzc0M2Zi',\n",
       " 'YzMxYjVlNDktY2JjOC00ODI4LWFkYjgtZWZmZjI2OTVjODBk']"
      ]
     },
     "execution_count": 17,
     "metadata": {},
     "output_type": "execute_result"
    }
   ],
   "source": [
    "from langchain.document_loaders import TextLoader\n",
    "from langchain.document_loaders import PyPDFLoader\n",
    "from langchain.text_splitter import CharacterTextSplitter\n",
    "\n",
    "#loader = TextLoader(\"../data/state_of_the_union.txt\", encoding=\"utf-8\")\n",
    "# loader = PyPDFLoader(\"Lakeland Regional Med Center_FL_Geren_E_UHC_CIRAM0011705894_OI67475651_PATNTRECRD_DRG.PDF\")\n",
    "loader = PyPDFLoader(\"./MR_ops.PDF.ocr 1.pdf\")\n",
    "\n",
    "documents = loader.load()\n",
    "text_splitter = CharacterTextSplitter(chunk_size=1000, chunk_overlap=30)\n",
    "docs = text_splitter.split_documents(documents)\n",
    "\n",
    "vector_store.add_documents(documents=docs)"
   ]
  },
  {
   "cell_type": "code",
   "execution_count": 18,
   "metadata": {
    "tags": []
   },
   "outputs": [],
   "source": [
    "from langchain_community.retrievers import AzureAISearchRetriever\n",
    "retriever = AzureAISearchRetriever(\n",
    "    content_key=\"content\", top_k=1, index_name=\"document-index-hausman\",\n",
    "    service_name = 'case-cog-search',\n",
    "    api_key = key_credential\n",
    ")"
   ]
  },
  {
   "cell_type": "markdown",
   "metadata": {},
   "source": [
    "## Querying the data "
   ]
  },
  {
   "cell_type": "code",
   "execution_count": 78,
   "metadata": {
    "collapsed": true,
    "jupyter": {
     "outputs_hidden": true
    },
    "tags": []
   },
   "outputs": [
    {
     "data": {
      "text/plain": [
       "[Document(page_content=\"Patient Name: Hausman, Hensley M (MR#009419780) Date of Birth: 6/23/2021 12/13/23, 1:38 AM \\nHausman, Hensley M (MR # 009419780) DOB: 06/23/2021 \\nSocial History - Place of Residence \\n· Living arrangement \\n· Location \\n, \\nReview of Systems \\nReview of Systems \\nConstitutional: Negative for chills and fever. \\nHENT: Negative for ear pain and sore throat. \\nEyes: Negative for pain and redness. \\nRespiratory: Negative for cough and wheezing. \\nCardiovascular: Negative for chest pain and leg swelling. \\nGastrointestinal: Negative for abdominal pain and vomiting. \\nGenitourinary: Negative for frequency and hematuria. \\nMusculoskeletal: Negative for gait problem and joint swelling. \\nSkin: Positive for wound. Negative for color change and rash. \\nNeurological: Negative for seizures and syncope. \\nAll other systems reviewed and are negative. \\nPhysical Exam \\nED Triage Vitals \\nTemp \\n10/29/23 1500 \\n36.4 °■ (97.6 °F) 120 Pulse \\n10/29/23 1500 Resp \\n10/29/23 1500 \\n30 BP SpO2 \\n10/29/23 1631 10/29/23 1500 \\n100/62 98 % \\nTemp src \\n10/29/23 1500 Pulse/Heart Rate \\nSource \\n10/29/23 1500 \\nTemporal Monitor Patient Position BP Location \\n-- FiO2 (%) \\n-- \\nPhysical Exam \\nVitals and nursing note reviewed. \\nConstitutional: \\nGeneral: She is active. She is not in acute distress. \\nAppearance: Normal appearance. She is well-developed and normal weight. \\nComments: Is a well-developed toddler white female in her mom's arms. She is awake alert \\nis in no distress. \\nHENT: \\nHead: Normocephalic. \\nComments: She has a 0.75 cm superficial laceration on the left upper lip. It does cross the \\nvermilion border its in a triangle shaped flap-like pattern. There is no active bleeding at this \\ntime. There is no swelling there is no intraoral laceration. The dentition is intact. \\nRight Ear: External ear normal. \\nLeft Ear: External ear normal. \\nMouth/Throat: \\nMouth: Mucous membranes are moist. \\nPharynx: Oropharynx is clear. No oropharyngeal exudate. \\nEyes: \\nHausman, Hensley M (MR # 009419780) Printed at 12/12/2023 2:08 PM \\nhttps://epiccarelink.bryanhealth.org/EpicCareLink_PRD/common/epic_main.asp 2/7\", metadata={'@search.score': 2.036248, 'id': 'NzY1MWFmZjYtYWE0Ni00Zjg2LWFiMzAtMTEyMmI3NmI3YmI2', 'content_vector': [-0.0254307, 0.024123827, -0.010114937, -0.029177962, -0.009788219, 0.0350989, 0.010975074, 0.012181932, -0.024977295, -0.016149227, -0.007154468, 0.020469911, -0.009308143, 0.0128153665, 0.017589455, 0.008454674, 0.03331195, -0.014495633, 0.02171011, -0.03339196, -0.0199765, 0.004047308, -0.01256866, 0.0031088265, 0.006047626, -0.011668517, 0.033818696, -0.031845048, -0.0050574685, -0.03429877, 0.006531036, -0.0093481485, -0.0019136368, -0.020136526, 0.0033705346, 0.008801395, 0.019883152, -0.004710747, 0.030298138, 0.008781392, 0.01701603, -0.004494046, -0.0070477845, -0.011235115, -0.014909031, 0.004374027, -0.0053741857, -0.024657244, -0.02973805, 0.018869659, 0.008021272, 0.002128671, 0.022936972, 0.011348466, 0.009028098, -0.014322272, 0.043313537, 0.039579608, -0.03989966, -0.00998825, 0.008374661, -0.005487537, -0.026790917, -0.005547547, -0.033551987, -0.00990157, -0.020603266, 0.020589931, -0.008207968, 0.0393129, 0.021483408, 0.009061436, -0.02212351, -0.0064243525, 0.019003013, -0.0010726701, -0.032351796, -0.0051808213, 0.0076945536, -0.0016135892, 0.0132421, -0.015655816, -0.022216858, 0.0067777415, 0.05024797, 0.006190982, 0.01713605, 0.025804093, -0.016469277, -0.016922683, 0.014975709, 0.019443082, 0.0022036827, -0.00613764, 0.0039172876, 0.00044590406, -0.020549925, 0.019576438, 0.017776152, -0.017922841, -0.007447848, 0.018002855, -0.011215112, 0.0022153512, -0.019883152, -0.0015019049, -0.021696774, -0.009981583, -0.0025904106, -0.02537736, -0.0065643745, 0.01502905, -0.0012160261, -0.02381711, 0.012695347, 0.00832132, 0.038859494, -0.0040873145, -0.0021870134, 0.012088584, 0.0056975703, 0.03003143, -0.002510398, -0.013362119, 0.01977647, 0.020589931, -0.037072543, -0.018842988, 0.0066877273, -0.011395141, 0.002220352, -0.028991265, 0.036165733, -0.0023353703, -0.010081599, -0.0070411167, -0.016455943, -0.0022053497, -0.042406727, -0.035899024, 0.02701762, 0.03725924, -0.010795046, -0.012475312, -0.014829018, 0.007327829, 0.023003649, 0.0048407675, -0.020483248, -0.004547388, 0.011241783, -0.0022586915, -0.0009118113, 0.0047007455, 0.008561357, 0.013188759, 0.017402759, 0.0064376877, 0.0067777415, -0.032031745, -0.035578974, 0.0016802665, 0.0108350525, 0.01007493, -0.007661215, 0.009688202, -0.02797777, -0.011681853, 0.00013991802, -0.0013043735, -0.032618504, 0.0138688665, -0.02915129, -0.005044133, -0.011195109, -0.005487537, -0.0029804728, 0.006887759, -0.034165416, -0.05440863, -0.016029207, 0.008921415, 0.038272735, 0.021963485, 0.00024878944, 0.020869976, 0.029791392, -0.011995236, 0.00064885285, -0.016335923, 0.0068044127, 0.013895538, 0.011148435, -0.026937606, -0.6226054, -0.010094934, 0.00849468, 0.010014921, -0.0036139064, 0.02824448, 0.006967772, 0.012295283, -0.014709, 0.014762341, -0.015202411, 0.042166684, -0.011101761, 0.0071478, -0.0035905696, -0.020469911, -0.012035242, -0.0049441173, 0.022576915, 0.0031288296, -0.019643115, 0.006174313, 0.002098666, 0.0027137639, 0.013668834, -0.013222097, 0.037205897, 0.011488489, 0.0040239715, -0.0018569612, -0.021403395, 0.033632, 0.008541354, 0.008267977, 0.04763422, -0.023337035, -0.00031400812, 0.050007932, 0.004200666, 0.015829176, -0.009268136, -0.0061809802, 0.016829334, 0.0030371484, -0.023723762, 0.020296551, 0.0031971738, -0.021536749, -0.025604062, -0.028004441, 0.0022570244, 0.00887474, -0.007761231, -0.007534528, -0.012975391, -0.0063410057, 0.016135892, -0.016549291, -0.0013393791, -0.01713605, 0.0008117954, 0.021776788, -0.0035272262, -0.013222097, 0.008194633, 0.018656291, -0.007974598, 0.0023120332, 0.00016471361, 0.0004121487, -0.01593586, 0.031951733, -0.010188282, 0.008954753, 0.020629937, 0.027030954, -0.0050874734, 0.0020953321, -0.0072678193, 0.0218568, 0.02496396, 0.023417048, 0.006167645, 0.004630734, 0.02349706, -0.008367993, -0.03725924, 0.01628258, -0.02320368, -0.023096997, 0.009181456, 0.0031038257, 0.0033488646, -0.019016348, -0.0012993726, 0.012135258, -0.0053875213, 0.03488553, 0.00902143, -0.017642798, -0.012388632, -0.016442606, 0.036539126, 0.007274487, -0.0011718525, 0.0078012375, -0.023230352, 0.010414984, 0.020643273, -0.019149702, 0.009641528, -0.005764248, -0.005497539, 0.0017769485, 0.00319384, -0.028004441, -0.00022274366, 0.0039906325, 0.012235274, -0.04486045, 0.01982981, -0.0054642, 0.016269246, -0.00796793, 0.030831557, 0.022430224, -0.0023520396, -0.00454072, 0.0128153665, -0.0093481485, 0.018562943, -0.022870295, 0.010368311, -0.028644543, 0.031631682, 0.0034672166, 0.024217175, 0.007321161, 0.0071144616, -0.004137323, -0.0106416885, -0.0065643745, -0.015762499, 0.002342038, 0.0064976974, -0.02050992, -0.012288616, 0.0076078735, 0.004107318, 0.016122555, -0.022283535, -0.005970947, 0.0066143824, 0.010261627, -0.020456577, -0.02484394, 0.0028837908, 0.0013068739, -0.007467851, -0.016682645, 0.017029367, 0.029471342, -0.027737733, -0.019589772, -0.00019596859, -0.0068610883, 0.0041639935, 0.0048340997, 0.01189522, -0.025857436, -0.0070944587, -0.01544245, -0.015589139, -0.022963643, -0.0017236067, -0.017416095, -0.011301793, -0.0015185742, -0.003957294, -0.00029233802, 0.00066427205, -0.015055722, 0.0016010873, 0.008501348, 0.041286547, 0.0009526511, 0.006441022, 0.011841878, 0.0011651848, 0.03371201, -0.01248198, 0.0068477527, -0.018696297, 0.023683757, -0.018242892, -0.001836958, 0.0050808056, 0.02100333, 0.00034380454, 0.024217175, 0.020776628, 0.014989044, 0.017589455, 0.0049907914, 0.01710938, -0.031284958, 0.009194791, -0.0070944587, 0.03131163, -0.013988885, -0.016322589, -0.03933957, 0.0014785678, -0.0038239397, -0.01502905, -0.014322272, 0.0045573893, -0.009428161, -0.00048632713, 0.011228448, 0.017122714, 0.015349101, 0.036139064, 0.011615176, -0.0071211294, -0.0013360452, 0.033845365, 0.010301633, -0.0076812184, -0.011235115, -0.017322747, 0.038219392, 0.02068328, 0.0074611832, 0.016709317, 0.016189232, 0.01412224, -0.012848705, 0.009121446, 0.01948309, -0.0033972056, -0.0071144616, 0.04171328, -0.001978647, 0.00056467287, -0.01698936, -0.010041592, 0.009248133, 0.010041592, 0.0049441173, 0.002998809, -0.008387997, 0.006551039, -0.00043381882, 0.026550878, -0.03224511, -0.013055404, 3.2973978e-05, 0.013228765, 0.029764721, 0.015695821, 0.008601364, 0.0059909504, -0.011968565, 0.023056991, -0.014909031, -0.012868708, -0.01502905, -0.008274646, -0.023683757, -0.007107794, -0.007034449, 0.002071995, -0.009614858, 0.008721382, 0.009368152, 0.016015872, -0.0044040317, 0.021123352, -0.01590919, -0.031791706, -0.051634856, 0.008694712, 0.024750592, 0.010628353, 0.0058909343, 0.013622161, -0.0094615, -0.023457054, 0.017496107, 0.013362119, -0.0011560166, -0.005144149, -0.0068110805, -0.0053808535, -0.0008472177, 0.013762183, -0.002557072, 0.0041473242, 0.005537545, 0.002267026, -0.0035605647, -0.010948404, -0.018029526, 0.007787902, -0.003503889, -0.025324017, -0.026110807, 0.003213843, 0.010028256, 0.015949195, -0.009341481, -0.025390694, 0.020869976, 0.011635179, 0.014882361, -0.029711379, 0.008254642, 0.011548499, -0.036832508, -0.018963007, -0.01353548, -0.024043813, 0.009861563, 0.073718354, 0.011168438, 0.016816, 0.034378786, 0.016295917, -0.0056008883, -0.026404189, -0.014775677, 0.021550085, 0.009774883, -0.00887474, 0.011415144, -0.021963485, 0.015575804, 0.0033755354, -0.024217175, 0.040166367, 0.015402443, -0.0016886012, 0.010081599, -0.019549767, -0.0044840444, -0.00828798, 0.048941094, 0.034698833, -0.01833624, 0.0033905378, -0.0050074607, 0.02707096, -0.014455626, -0.027844416, 0.0020436572, -0.0132421, 0.021523414, -0.014468961, 0.016909348, 0.001953643, -0.015295759, 0.031418316, -0.01622924, 0.020549925, 0.04109985, -0.0067810756, 0.0007426178, 0.012942052, -0.004390696, -0.009974915, 0.00159692, -0.004204, -0.011355135, 0.016362594, 0.003168836, 0.0101016015, -0.0285912, 0.02464391, -0.0024420538, 8.123033e-07, -0.01368217, -0.03315192, 0.016469277, -0.024283852, -0.033925377, 0.002755437, 7.6835095e-05, -0.011268454, -0.014882361, -0.03035148, 0.0030988248, -0.00246039, 0.0066310517, -0.0037139223, 0.0285912, -0.019443082, 0.014495633, 0.03315192, -0.00062384893, 0.012121922, -0.032885212, 0.0070677875, -0.002076996, -0.0030621523, -0.014829018, 0.018282898, 0.0032005077, 0.009688202, 0.033898707, 0.015282424, -0.009201459, -0.019883152, 0.026097473, 0.028857911, -4.8445185e-05, 0.0044807103, 0.0064376877, -0.008428003, 0.012295283, 0.0027187646, 0.016856005, -0.0077478955, -0.0019553099, -0.007947926, -0.04398031, -0.019576438, 0.005120812, -0.008047943, -0.003145499, -0.008247974, 0.007327829, -0.03749928, -0.009088107, 0.01862962, -0.0007630377, 0.011121764, -0.010955071, 0.010321637, -0.0016110889, -0.019789804, -0.00521416, 0.026684232, -0.029071277, 0.01757612, 0.0065910453, 0.033098582, 0.0060809646, -0.009368152, 0.042833462, -0.0005359183, -0.0018719636, -0.0055542146, 0.008374661, 0.0076945536, 0.018096203, 0.006671058, -0.024030479, -0.0068477527, -0.04053976, -0.027844416, 0.00050758047, 0.005490871, 0.0061609773, -0.0013060404, 0.0061343065, 0.007414509, -0.00017596541, 0.011388473, -0.022616921, -0.017389424, 0.009454832, -0.0268976, -0.011135099, -0.00720781, 0.011381806, -6.797953e-05, 0.017242733, -0.0037172562, -0.014188917, -0.003287188, 0.025737416, 0.02014986, 0.017989518, 0.011488489, -0.012835369, 0.034912203, 0.015429114, 0.0016927685, 0.0065177004, -0.017162722, -0.0053308457, -0.040379737, 0.009614858, 0.035045557, 0.026204156, 0.031951733, 0.032111757, -0.009794886, 0.017696138, -0.0075745345, -0.0081012845, -0.010094934, -0.05643562, -0.009174788, -0.014989044, -0.008994759, 0.0016102555, -0.037846, -0.014308936, 0.022603586, -0.0017636131, 0.004824098, -0.041153193, -0.0045707244, -0.036512457, 0.037659302, -0.012095252, -0.004277345, 0.018669626, -0.010368311, -0.007254484, 0.0011343465, 0.0006638553, -0.013428797, 0.010568343, 0.011988568, -0.00613764, -0.0134821385, 0.009848228, -0.0033338622, -0.023217017, -0.0045507215, -0.002413716, -0.0066810595, -0.008861405, 0.0038772817, -0.00015127398, 0.001643594, 0.0045007137, 0.002535402, 0.026590884, -0.022923635, -0.0061076353, -0.0028487851, -0.009308143, 0.014962373, -0.0001977397, 0.04133989, 0.03880615, -0.017242733, 0.004127321, 0.02212351, 0.026230827, -0.0007480353, 0.02912462, 0.010068263, -0.0074545154, -0.0015694156, 0.03805937, 0.025097314, -0.034058735, -0.03611239, 0.02587077, 0.021963485, -0.011415144, -0.016882677, 0.002317034, -0.029578025, 0.017469436, -0.020536589, 0.0059376084, -0.02739101, -0.022790281, 0.0031138272, 0.017536113, -0.015562468, 0.017829493, 0.0024470547, -0.011928558, 0.007327829, -0.022163516, 0.0061809802, 0.011288458, 0.0011193441, 0.0472875, -0.03131163, -0.00011001745, -0.0072411485, -0.0060876324, 0.0030188123, -0.009061436, 0.007227813, 0.040006343, -0.0041206535, -0.023510396, 0.014695664, -0.0021353385, 0.010054927, 0.0007301158, 0.009554848, -0.013522144, -0.019323064, -0.0030554847, 0.021110013, 0.020989994, -0.013708841, -0.022363547, -0.028857911, -0.015642479, -0.021870136, -0.02100333, 0.01877631, -0.022763612, -0.005997618, 0.009994918, -0.013422129, 0.019789804, -0.0010376645, -0.008888076, -0.023270357, 0.030458163, -0.032831874, 0.044673752, -0.0037739319, -0.0020369897, -0.032405138, -0.01154183, 0.006264327, -0.013882202, 0.0017519445, 0.023803776, -0.0032338463, -0.023510396, 0.028111124, 0.019523095, -0.015109063, -0.013562151, -0.016055878, 0.014655658, 0.020776628, -0.01985648, -0.03248515, 0.032005075, -0.0015077392, -0.012768692, -0.0370192, -0.005437529, 0.0043573575, 0.0057609137, 0.011855214, -0.017416095, -0.00306882, 0.0120619135, 0.010581679, 0.027844416, -0.02315034, -0.021950148, -0.034112073, 0.009721541, -0.011948562, 0.016095886, -0.011215112, -0.021936813, 0.038512774, -0.013428797, -0.008361326, 0.016549291, -0.006447689, -0.009574851, 0.00037089217, -0.004494046, -0.028564531, -0.0050041266, 0.010261627, 0.03035148, 0.019789804, 0.008681376, -0.007541196, -0.010628353, -0.03493887, -0.01517574, -0.013615493, 0.01426893, -9.0639376e-05, 0.011908555, 0.0054541985, -3.2270742e-05, 0.0013060404, -0.009388155, -0.025777422, -0.027257657, 0.024470547, -0.001788617, 0.017242733, 0.010014921, -0.02217685, -0.0028937925, -0.00062426564, 0.011508492, -0.012375296, 0.016309252, -0.007961262, -0.01359549, -0.006604381, -0.0005934274, 0.002855453, -0.006701063, -0.008514684, 0.0033672007, -0.015135734, -0.025790757, 0.010508332, -0.024563896, -0.029978087, 0.03541895, -0.01544245, -0.012281948, 0.006484362, -0.0015210746, -0.0022986978, -0.034672163, 0.03123162, -0.0051374813, -0.020963324, 0.004180663, 0.018229557, -0.0020036509, 0.011335132, 0.012735354, -0.013542148, -0.0011576836, -0.019816475, -0.014002221, 0.0013985552, -0.021043336, -0.012788695, -0.02124337, -0.0136555, 0.014335607, -0.019496424, -0.0279511, 0.027230985, -0.0102749625, -0.017776152, -0.022550244, -0.025497377, -0.026764246, 0.017829493, -0.0071011265, 0.010861723, -0.022243528, -0.0047974274, 0.029471342, -0.024457213, -0.0035939033, 0.0023103664, -0.0039539603, -0.005637561, 0.028031113, 0.20109856, 0.017856164, 0.0026770914, 0.014522303, -0.016856005, 0.005030798, 0.03632576, 0.01456231, -0.004537386, 0.021203363, 0.009061436, -0.029017936, -0.0120619135, 0.018923, 0.01754945, -0.024483884, -0.039792977, -0.012762024, -0.013962215, -0.044673752, -0.0023370371, -0.0056008883, -0.021750117, -0.021030001, 0.014709, -0.008221303, 0.0009068105, -0.016175898, 0.018029526, -0.018056195, -0.032431807, 0.0016694315, 0.0058209235, -0.005704238, -0.032645177, -0.0076345443, 0.0021070007, 0.016749322, 0.01804286, 0.014882361, -3.5292055e-06, -0.011215112, -0.0028221144, -0.01936307, 0.017402759, 0.017349416, 0.012615334, -0.007841243, -0.022390218, 0.004467375, -0.02528401, -0.0058475942, -0.001788617, 0.036539126, -0.0071211294, -0.015855847, 0.041526582, 0.024883946, -0.014762341, -0.013028733, -0.0081012845, 0.0047907596, -0.01157517, 0.028297821, -0.008908079, 0.016882677, 9.037892e-05, -0.009041433, -0.023123669, -0.01657596, -0.0003490137, -0.016816, -0.01075504, 0.0067510707, -0.02883124, -0.022963643, 0.016856005, 0.02379044, -0.023243686, 0.031791706, -0.013235433, 0.004487378, -0.02440387, 0.018296234, -0.028004441, -0.023723762, 0.009568184, 0.0097148735, -0.0063176686, -0.0035105569, -0.005807588, 0.01965645, -0.0026554212, -0.009034766, 0.005487537, 0.0034872198, 0.009561516, 0.01004826, -0.003168836, 0.02320368, -0.019843146, 0.04963454, 0.0070477845, -0.010968407, -0.019923158, -0.021816794, 0.006501031, 0.029177962, 0.016429272, -0.005394189, 0.0004784092, -0.0285912, -0.01136847, -0.008748054, 0.007887918, 0.023977136, -0.0038039368, -0.03693919, -0.009494838, 0.006527702, 0.025150657, 0.0002162843, 0.017122714, 0.03816605, 0.008834734, -0.022563579, -0.013315446, -0.022950307, 0.009188123, -0.032671846, -0.003313859, 0.00017659052, 0.03461882, 0.0068477527, -0.008694712, -0.0072344807, -0.0026554212, 0.005000793, -0.018122872, 0.016255911, 0.011281789, -0.028644543, 0.016135892, -0.008081282, -0.0009501507, -0.0321651, 0.013775518, 0.0107483715, -0.03603238, -0.010061596, -0.0203899, -0.014455626, -0.006817748, -0.011228448, 0.02344372, -0.010494997, -0.023137003, -0.030484835, 0.007201142, 0.0008793061, -0.021203363, 0.015735827, 0.023270357, 0.014228923, -0.028617872, 0.020749956, -0.16920017, 0.014215588, 0.016135892, -0.019749798, -0.0073545, 0.0048707724, 0.017509442, -0.016455943, 0.0050841393, -0.004534052, 0.025057308, 0.0005396689, 0.020603266, -0.034458797, -0.009528177, 0.011055087, -0.021176692, 0.012788695, 0.041286547, 0.010808381, 0.042140014, -0.026270833, 0.006454357, 0.0049841236, -0.003670582, 0.01397555, 0.005584219, 0.041979987, -0.010541671, 0.015989201, -0.032058414, -0.017216062, 0.004634068, 0.0052775033, -0.010014921, -0.011048419, 0.0132887745, 0.011995236, -0.01122178, 0.03304524, 0.0035605647, 0.013162088, 0.011208445, 0.0035438954, -0.0279511, 0.015055722, 0.021923477, 0.027791075, -0.005690903, -0.02044324, -0.016762657, -0.019616444, 0.013895538, 0.008648038, 0.010848387, 0.0066543887, -0.014242259, 0.012301952, 0.0032788534, -0.011641847, -0.016495949, -0.020763291, 0.029364657, -0.018229557, 0.004950785, -0.017362753, -0.005980949, -0.0029438003, -0.023577074, 0.024577232, -0.011188442, -0.032671846, -0.0012860373, -0.008087949, 0.020789962, 0.0034238764, -0.0046740742, -0.0063543413, 0.021670105, 0.0013085408, 0.00014877359, 0.024883946, -0.02797777, -0.01664264, -0.014482297, 0.0036905853, -0.009181456, 0.0058642635, 0.04278012, -0.013935544, 0.00092681363, -0.028857911, -0.0054475307, -0.018963007, 0.030564848, 0.017642798, -0.01544245, -0.0218568, -0.00682775, -0.010768374, -0.0067077307, -0.016255911, 0.00828798, 0.03123162, 0.018816317, -0.0038539446, -0.025484042, 0.014882361, 0.031791706, -0.027471025, -0.004510715, 0.00044965465, 0.023230352, 0.019576438, 0.00990157, 0.035312265, -0.036192406, -0.015122399, 0.012808698, -0.01754945, 0.05504873, 0.0004363192, -0.032431807, 0.0026004124, -0.005017462, -0.0006317668, -0.06427686, -0.011215112, 0.0042340048, 0.010401649, -0.012682011, 0.019883152, -0.006264327, 0.005534211, -0.0048174304, 0.010241624, -0.013255436, -0.013962215, -0.0015319097, -0.025617396, 0.024270516, 0.008608031, 0.015602475, -0.016629303, -0.004420701, 0.053288452, -0.008868072, -0.017856164, -0.020963324, -0.017416095, -0.006334338, -0.039152876, -0.05798253, -6.141599e-05, 0.01227528, 0.013588822, 0.011101761, -0.012155262, 0.013228765, -0.0017952848, 0.0002794193, -0.015415778, -0.02604413, -0.009061436, 0.02915129, -0.029177962, -0.0015402443, -0.0011676851, 0.011055087, -0.023843782, 0.034325443, -0.005037465, -0.039499596, 0.026830923, 0.0033922046, -0.022323541, 0.0017336083, -0.02041657, -0.008501348, -0.004270677, 0.025150657, -0.006947769, -0.0016944354, 0.0035605647, -0.036619138, -0.014802348, 0.011535163, 0.008481344, -0.020736622, 0.020776628, 0.011081758, 0.012261945, -0.0031388311, -0.016002538, -0.0006542704, -0.013095411, -0.006747737, 0.016389266, -0.016015872, 0.007401174, -0.041286547, 0.016549291, -0.01772281, -0.0041573257, 0.0030771547, -0.021470072, -0.0066443873, -0.01801619, -0.0029371325, -0.008448006, 0.002485394, 0.03277853, -0.010861723, 0.0071678036, 0.011101761, -0.033925377, 0.022790281, 0.033845365, 0.00575758, -0.010401649, 0.0016094219, -0.0011593505, -0.019523095, -0.0036372435, 0.009961579, 0.0006826083, -0.025497377, -0.01784283, -0.07745228, 0.024363864, -0.00414399, -0.0064743604, -0.008474677, -0.01242197, 0.048407678, -0.010334972, -0.010975074, 0.014989044, -0.020976659, 0.033818696, -0.0038572785, 0.012608667, -0.05075472, -0.012702014, 0.010615017, 0.016255911, 0.026697569, 0.029844733, -0.010655023, 0.013382123, -0.010354975, 0.014508968, -0.020949988, 0.021736782, 0.018869659, 4.203792e-05, -0.025364023, -0.01561581, 0.007541196, -0.033738684, -0.00056759, 0.04136656, 0.0076278765, -0.024897283, 0.014468961, -0.017149385, 0.006567708, -0.0047640884, -0.045447208, -0.01013494, -0.008881408, -0.013815525, 0.00043298534, 0.003287188, -0.009274804, 0.034058735, 0.0049574524, -0.0009226463, 0.03451214, 0.017882835, -0.024070485, 0.0018536273, 0.0018969675, 0.024203839, -0.0026954275, 0.013648831, 0.021910142, -0.024630573, 0.040486418, 0.007127797, 0.006817748, 0.002662089, 0.019096361, -0.008941418, 0.018896328, -0.00012470727, -0.010421652, -0.032298453, -0.00910811, -0.015949195, -0.00928814, 0.032698516, 0.029418, 0.017736144, -0.025404029, 0.011655182, -0.0035472293, 0.03157834, 0.029364657, 0.012148594, -0.013668834, -0.003242181, 0.022803618, -0.005144149, -0.02197682, -0.007034449, 0.01069503, 0.027057625, -0.016682645, 0.013555483, 0.004807429, -0.0016244244, -0.0024787262, -0.0008634703, 0.012261945, -0.011728527, 0.03755262, 0.026097473, 0.018429589, 0.032618504, -0.003893951, -0.016495949, -0.0010476661, 0.014468961, -0.011728527, -0.0145356385, 0.018416254, 0.0031838384, 0.03035148, 0.019496424, -0.020229874, 0.009974915, -0.012201935, -0.016882677, -0.0031705028, -0.008307984, -0.021576757, 0.03632576, -0.012115255, -0.010775043, 0.0032438478, 0.004807429, 0.008601364, 0.0055808853, 0.050407995, -0.006771074, -0.006961104, -0.021883471, -0.0023820442, -0.0032788534, -0.057875846, -0.0131154135, -0.020803299, -0.002413716, 0.010621685, 0.0013002062, -0.0041839965, 0.08428003, 0.013542148, -0.0437136, 0.020869976, -9.67341e-05, 0.018402917, 0.0016360928, -0.0007238648, -0.013562151, -0.014015556, 0.013895538, -0.019109696, 0.0067844093, -0.021403395, -0.024603903, -0.01637593, -0.004360691, 0.04027305, 0.018096203, 0.008241307, 0.007534528, -0.0011393473, 0.015842512, -0.017962849, -0.038912836, 0.01098841, 0.030804886, -0.032645177, -0.0032021746, -0.027164308, -0.00410065, 0.0070944587, -0.02180346, -0.0043306868, 0.016629303, -0.02070995, -0.01368217, 0.007154468, 0.019603107, 0.01652262, -0.021083342, 0.030004758, 0.017469436, -0.019229716, -0.025964119, -0.020949988, -0.021483408, 0.019896489, -0.02050992], 'metadata': '{\"source\": \"MR_ops.PDF.ocr 1.pdf\", \"page\": 1}'})]"
      ]
     },
     "execution_count": 78,
     "metadata": {},
     "output_type": "execute_result"
    }
   ],
   "source": [
    "# retriever.invoke(\"what is history for patient?\")"
   ]
  },
  {
   "cell_type": "code",
   "execution_count": 19,
   "metadata": {
    "tags": []
   },
   "outputs": [],
   "source": [
    "\n",
    "\n",
    "CONDENSE_QUESTION_PROMPT = PromptTemplate.from_template(\"\"\"Given the following conversation and a follow up question, \n",
    "rephrase the follow up question to be a standalone question.\n",
    "Follow Up Input: {question}\n",
    "Standalone question:\"\"\")\n",
    "\n",
    "qa = ConversationalRetrievalChain.from_llm(llm = llm,\n",
    "                                           retriever=retriever,\n",
    "                                           condense_question_prompt=CONDENSE_QUESTION_PROMPT,\n",
    "                                           return_source_documents=True,\n",
    "                                           verbose=False)"
   ]
  },
  {
   "cell_type": "code",
   "execution_count": 23,
   "metadata": {
    "tags": []
   },
   "outputs": [
    {
     "name": "stdout",
     "output_type": "stream",
     "text": [
      "Question: What is physical exam of patient\n",
      "Answer: The physical exam of the patient includes the following findings:\n",
      "\n",
      "Constitutional:\n",
      "- General: The patient is active and not in acute distress. She is a well-developed toddler white female in her mom's arms. She is awake and alert.\n",
      "\n",
      "HENT:\n",
      "- Head: Normocephalic.\n",
      "- Lips: She has a 0.75 cm superficial laceration on the left upper lip, crossing the vermilion border in a triangle-shaped flap-like pattern. There is no active bleeding, swelling, or intraoral laceration. The dentition is intact.\n",
      "\n",
      "Eyes:\n",
      "- No specific information is provided about the eyes in the given context.\n",
      "\n",
      "Mouth/Throat:\n",
      "- Mouth: Mucous membranes are moist.\n",
      "- Pharynx: Oropharynx is clear with no oropharyngeal exudate.\n"
     ]
    }
   ],
   "source": [
    "chat_history = []\n",
    "# query = \"Give me a summary for the patient medical record\"\n",
    "query = \"What is physical exam of patient\"\n",
    "result = qa({\"question\": query, \"chat_history\": chat_history})\n",
    "\n",
    "print(\"Question:\", query)\n",
    "print(\"Answer:\", result[\"answer\"])"
   ]
  },
  {
   "cell_type": "code",
   "execution_count": null,
   "metadata": {},
   "outputs": [],
   "source": []
  },
  {
   "cell_type": "code",
   "execution_count": null,
   "metadata": {},
   "outputs": [],
   "source": []
  }
 ],
 "metadata": {
  "kernelspec": {
   "display_name": "Python 3 (ipykernel)",
   "language": "python",
   "name": "python3"
  },
  "language_info": {
   "codemirror_mode": {
    "name": "ipython",
    "version": 3
   },
   "file_extension": ".py",
   "mimetype": "text/x-python",
   "name": "python",
   "nbconvert_exporter": "python",
   "pygments_lexer": "ipython3",
   "version": "3.10.11"
  }
 },
 "nbformat": 4,
 "nbformat_minor": 4
}
